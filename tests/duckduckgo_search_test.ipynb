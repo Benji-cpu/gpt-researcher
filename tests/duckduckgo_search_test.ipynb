{
 "cells": [
  {
   "cell_type": "markdown",
   "metadata": {},
   "source": [
    "### Search"
   ]
  },
  {
   "cell_type": "code",
   "execution_count": 1,
   "metadata": {},
   "outputs": [],
   "source": [
    "from sf_researcher.retrievers.duckduckgo.duckduckgo import Duckduckgo"
   ]
  },
  {
   "cell_type": "code",
   "execution_count": 2,
   "metadata": {},
   "outputs": [],
   "source": [
    "ddg = Duckduckgo(\n",
    "    query=\"\\\"OpenSea\\\" company registered directors\"\n",
    ")"
   ]
  },
  {
   "cell_type": "code",
   "execution_count": 3,
   "metadata": {},
   "outputs": [
    {
     "name": "stdout",
     "output_type": "stream",
     "text": [
      "[{'title': 'OPENSEA GROUP LIMITED - Find and update company information', 'href': 'https://find-and-update.company-information.service.gov.uk/company/13549031', 'body': 'OPENSEA GROUP LIMITED - Free company information from Companies House including registered office address, filing history, accounts, annual return, officers, charges, business activity ... Company Overview for OPENSEA GROUP LIMITED (13549031) Filing history for OPENSEA GROUP LIMITED (13549031) People for OPENSEA GROUP LIMITED ...'}, {'title': 'Welcoming Chris Dixon to our Board of Directors | OpenSea', 'href': 'https://opensea.io/blog/articles/welcoming-chris-dixon-to-our-board-of-directors', 'body': 'Published. July 30, 2022. I\\'m excited to formally welcome Chris Dixon to the OpenSea Board of Directors. Chris has been extremely influential in shaping my views on web3. I followed his writing closely when I first fell down the \"crypto rabbithole,\" and met him in 2021 when a16z first expressed interest in investing in OpenSea.'}, {'title': 'OpenSea - Wikipedia', 'href': 'https://en.wikipedia.org/wiki/OpenSea', 'body': 'Website. opensea .io. OpenSea is an American non-fungible token (NFT) marketplace headquartered in New York City. The company was founded by Devin Finzer and Alex Atallah in 2017. [2] [3] OpenSea offers a marketplace online allowing for non-fungible tokens to be sold directly at a fixed price, or through an auction.'}, {'title': 'OpenSea Company Profile | Management and Employees List - Datanyze', 'href': 'https://www.datanyze.com/companies/opensea/452495898', 'body': 'OpenSea Profile and History. OpenSea was founded in 2017 and is the first peer-to-peer marketplace for blockchain-based assets, which include collectibles, gaming items, digital art, domain names, event tickets, and physical assets backed by a blockchain. OpenSea is headquartered in New York, United States.'}, {'title': 'Category - Company | OpenSea', 'href': 'https://opensea.io/blog/categories/company', 'body': \"Company. Experience. OpenSea's Pride Perspectives Gallery, June 2023. July 26, 2023. July 26, 2023. This June, OpenSea proudly participated in Pride Month by featuring LGBTQIA+ creators across our platforms. ... I'm excited to formally welcome Chris Dixon to the OpenSea Board of Directors. Chris has been extremely influential in shaping my ...\"}, {'title': 'OpenSea | Company Overview & News - Forbes', 'href': 'https://www.forbes.com/companies/opensea/', 'body': 'OpenSea. Founded nearly five years ago, this startup was an early player in the NFT market that took off in 2021. It operates as a peer-to-peer platform where users can create, buy and sell all ...'}, {'title': 'OpenSea CEO and Key Executive Team | Craft.co', 'href': 'https://craft.co/opensea/executives', 'body': \"Craft can deliver 250+ data points of financial, operating, and human capital indicators on companies via API. Learn more. OpenSea's CEO & Co-Founder is Devin Finzer. Other executives include Alex Atallah, Co-Founder; Karthik Kongovi, Vice President of Operations and 2 others. See the full leadership team at Craft.\"}, {'title': 'OpenSea CEO, Founder, Key Executive Team, Board of Directors & Employees', 'href': 'https://www.cbinsights.com/company/opensea/people', 'body': \"OpenSea Management Team. OpenSea has 5 executives. OpenSea's current Founder, Chief Executive Officer is Devin Finzer. You're one click away from the most comprehensive, unmatched analyst expertise in tech, in-depth private company data and a platform that brings it all together. Click Now.\"}, {'title': 'OpenSea - Founders and Board of Directors - Tracxn', 'href': 'https://tracxn.com/d/companies/opensea/__BvytDvLbCzQoEAawhHSEoU8FROaEdh2fUVaR_r5opgQ/founders-and-board-of-directors', 'body': 'Hix Media-India based, Unfunded company; Sglalaland-Singapore based, 2022 founded, Unfunded company; MobiCooke-United States based, 2022 founded, Unfunded company; Valhalla Resort-Zug based, 2022 founded, Unfunded company; Crasoft-India based, 2024 founded, Unfunded company; Carousel Technologies-New York City based, 2023 founded, Seed company'}, {'title': 'OpenSea | The Org', 'href': 'https://theorg.com/org/opensea', 'body': 'OpenSea. 10 followers. Follow. OpenSea is the first and largest peer-to-peer marketplace for cryptogoods (like an eBay for crypto assets), which include collectibles, gaming items, and other virtual goods backed by a blockchain. On OpenSea, anyone can buy or sell these items through a smart contract. Industries.'}]\n"
     ]
    }
   ],
   "source": [
    "search_results = ddg.search(max_results=10)\n",
    "# for result in search_results:\n",
    "#     print(result)\n",
    "\n",
    "print(search_results)"
   ]
  },
  {
   "cell_type": "code",
   "execution_count": 16,
   "metadata": {},
   "outputs": [],
   "source": [
    "### Search Results Analysis"
   ]
  },
  {
   "cell_type": "code",
   "execution_count": 4,
   "metadata": {},
   "outputs": [],
   "source": [
    "import os\n",
    "from sf_researcher.utils.validators import *\n",
    "from sf_researcher.utils.llm import *\n",
    "from sf_researcher.master.prompts import *\n",
    "from sf_primary_agent import SFPrimaryAgent\n",
    "\n",
    "LANGCHAIN_TRACING_V2 = os.getenv(\"LANGCHAIN_TRACING_V2\")\n",
    "LANGCHAIN_ENDPOINT = os.getenv(\"LANGCHAIN_ENDPOINT\")\n",
    "LANGCHAIN_API_KEY = os.getenv(\"LANGCHAIN_API_KEY\")\n",
    "LANGCHAIN_PROJECT = os.getenv(\"LANGCHAIN_PROJECT\")"
   ]
  },
  {
   "cell_type": "code",
   "execution_count": 5,
   "metadata": {},
   "outputs": [],
   "source": [
    "request = {\n",
    "    \"query\": \"OpenSea\",\n",
    "    \"contacts\": [],\n",
    "    \"include_domains\": [],\n",
    "    \"exclude_domains\": [],\n",
    "    \"parent_sub_queries\": [\n",
    "        \"\\\"OpenSea\\\" company registered directors\"\n",
    "    ],\n",
    "    \"child_sub_queries\": [\n",
    "        \"director data\"\n",
    "    ],\n",
    "    \"salesforce_id\": \"00QQy000007D0hKMAS\",\n",
    "    \"parent_retreiver_queries\": [\n",
    "        \"OpenSea directors\"\n",
    "    ],\n",
    "    \"child_retreiver_queries\": [\n",
    "        \"director data\"\n",
    "    ]\n",
    "}\n",
    "main_report_type=\"compliance_report\"\n",
    "child_report_type=\"contact_report\""
   ]
  },
  {
   "cell_type": "code",
   "execution_count": 6,
   "metadata": {},
   "outputs": [
    {
     "name": "stderr",
     "output_type": "stream",
     "text": [
      "INFO:sf_primary_agent:No contacts provided. Contacts will be constructed.\n"
     ]
    }
   ],
   "source": [
    "researcher = SFPrimaryAgent(\n",
    "        query=request[\"query\"],\n",
    "        namespace=request[\"salesforce_id\"],\n",
    "        source_urls=None,\n",
    "        config_path=\"\",\n",
    "        contacts=request[\"contacts\"],\n",
    "        include_domains=request[\"include_domains\"],\n",
    "        exclude_domains=request[\"exclude_domains\"],\n",
    "        main_report_type=main_report_type,\n",
    "        child_report_type=child_report_type,\n",
    "        parent_sub_queries=request[\"parent_sub_queries\"],\n",
    "        child_sub_queries=request[\"child_sub_queries\"],\n",
    "        parent_retreiver_queries=request[\"parent_retreiver_queries\"],\n",
    "        child_retreiver_queries=request[\"child_retreiver_queries\"]\n",
    "    )"
   ]
  },
  {
   "cell_type": "code",
   "execution_count": 8,
   "metadata": {},
   "outputs": [
    {
     "name": "stdout",
     "output_type": "stream",
     "text": [
      "\n",
      "🤖 llm.py analyze_search_result Calling gpt-3.5-turbo...\n",
      "\n"
     ]
    },
    {
     "name": "stderr",
     "output_type": "stream",
     "text": [
      "INFO:httpx:HTTP Request: POST https://api.openai.com/v1/chat/completions \"HTTP/1.1 200 OK\"\n"
     ]
    },
    {
     "name": "stdout",
     "output_type": "stream",
     "text": [
      "items=[InitialSearchResult(title='OPENSEA GROUP LIMITED - Find and update company information', href='https://find-and-update.company-information.service.gov.uk/company/13549031', search_category=<SearchContentTypeEnum.company_information: 'Company Information'>, source_type=<SourceTypeEnum.government_filing: 'Government Filing'>, exclusion=False, reason='Contains company information and filing history'), InitialSearchResult(title='Welcoming Chris Dixon to our Board of Directors | OpenSea', href='https://opensea.io/blog/articles/welcoming-chris-dixon-to-our-board-of-directors', search_category=<SearchContentTypeEnum.director_news: 'Director News'>, source_type=<SourceTypeEnum.official_website: 'Official Website and Blog'>, exclusion=False, reason='Announcement of new board member'), InitialSearchResult(title='OpenSea - Wikipedia', href='https://en.wikipedia.org/wiki/OpenSea', search_category=<SearchContentTypeEnum.company_information: 'Company Information'>, source_type=<SourceTypeEnum.official_website: 'Official Website and Blog'>, exclusion=False, reason='Company overview and history on Wikipedia'), InitialSearchResult(title='OpenSea Company Profile | Management and Employees List - Datanyze', href='https://www.datanyze.com/companies/opensea/452495898', search_category=<SearchContentTypeEnum.company_information: 'Company Information'>, source_type=<SourceTypeEnum.business_director: 'Business Directory'>, exclusion=False, reason='Company profile and history on Datanyze'), InitialSearchResult(title='Category - Company | OpenSea', href='https://opensea.io/blog/categories/company', search_category=<SearchContentTypeEnum.company_information: 'Company Information'>, source_type=<SourceTypeEnum.official_website: 'Official Website and Blog'>, exclusion=False, reason='Company category on OpenSea blog'), InitialSearchResult(title='OpenSea | Company Overview & News - Forbes', href='https://www.forbes.com/companies/opensea/', search_category=<SearchContentTypeEnum.company_news: 'Company News'>, source_type=<SourceTypeEnum.business_director: 'Business Directory'>, exclusion=False, reason='Company overview and news on Forbes'), InitialSearchResult(title='OpenSea CEO and Key Executive Team | Craft.co', href='https://craft.co/opensea/executives', search_category=<SearchContentTypeEnum.director_information: 'Director Information'>, source_type=<SourceTypeEnum.business_director: 'Business Directory'>, exclusion=False, reason='Information on CEO and executive team on Craft.co'), InitialSearchResult(title='OpenSea CEO, Founder, Key Executive Team, Board of Directors & Employees', href='https://www.cbinsights.com/company/opensea/people', search_category=<SearchContentTypeEnum.director_information: 'Director Information'>, source_type=<SourceTypeEnum.business_director: 'Business Directory'>, exclusion=False, reason='Information on CEO, Founder, and executive team on CB Insights'), InitialSearchResult(title='OpenSea - Founders and Board of Directors - Tracxn', href='https://tracxn.com/d/companies/opensea/__BvytDvLbCzQoEAawhHSEoU8FROaEdh2fUVaR_r5opgQ/founders-and-board-of-directors', search_category=<SearchContentTypeEnum.director_information: 'Director Information'>, source_type=<SourceTypeEnum.business_director: 'Business Directory'>, exclusion=False, reason='Information on founders and board of directors on Tracxn'), InitialSearchResult(title='OpenSea | The Org', href='https://theorg.com/org/opensea', search_category=<SearchContentTypeEnum.company_information: 'Company Information'>, source_type=<SourceTypeEnum.business_director: 'Business Directory'>, exclusion=False, reason='Company information on The Org')]\n"
     ]
    }
   ],
   "source": [
    "overall_goal = \"acquire relevant web search results on OpenSea and it's related Directors\"\n",
    "initial_analysis = await analyze_search_result(search_results, overall_goal, config=researcher.main_task_assistant.cfg)\n",
    "print(initial_analysis)"
   ]
  },
  {
   "cell_type": "code",
   "execution_count": null,
   "metadata": {},
   "outputs": [],
   "source": []
  },
  {
   "cell_type": "markdown",
   "metadata": {},
   "source": [
    "### Scraping Tasks"
   ]
  },
  {
   "cell_type": "code",
   "execution_count": 9,
   "metadata": {},
   "outputs": [],
   "source": [
    "import os\n",
    "from apify_client import ApifyClient"
   ]
  },
  {
   "cell_type": "code",
   "execution_count": 10,
   "metadata": {},
   "outputs": [],
   "source": [
    "apify_client = ApifyClient(os.getenv('APIFY_API_KEY'))"
   ]
  },
  {
   "cell_type": "code",
   "execution_count": 11,
   "metadata": {},
   "outputs": [],
   "source": [
    "def create_scraping_task(apify_client, actor_id, url):\n",
    "    # Define the input for the actor\n",
    "    run_input = {\n",
    "        'startUrls': [{'url': url}],\n",
    "        'maxCrawlingDepth': 0,\n",
    "        'maxPagesPerCrawl': 1,\n",
    "        'proxyConfiguration': {'useApifyProxy': True},\n",
    "    }\n",
    "\n",
    "    # Run the actor and wait for the result\n",
    "    run = apify_client.actor(actor_id).call(run_input=run_input)\n",
    "    \n",
    "    return run['defaultDatasetId']"
   ]
  },
  {
   "cell_type": "code",
   "execution_count": 12,
   "metadata": {},
   "outputs": [],
   "source": [
    "def fetch_results(client, dataset_id):\n",
    "    # Fetch the results from the dataset\n",
    "    dataset_items = client.dataset(dataset_id).list_items().items\n",
    "    \n",
    "    # Extract raw text content\n",
    "    if dataset_items:\n",
    "        raw_data = dataset_items[0].get('text', '')\n",
    "        return raw_data\n",
    "    else:\n",
    "        return ''"
   ]
  },
  {
   "cell_type": "code",
   "execution_count": 13,
   "metadata": {},
   "outputs": [],
   "source": [
    "# Define the actor ID for a web scraper, e.g., \"apify/web-scraper\"\n",
    "actor_id = 'apify/website-content-crawler'"
   ]
  },
  {
   "cell_type": "code",
   "execution_count": 14,
   "metadata": {},
   "outputs": [],
   "source": [
    "url_to_scrape = \"https://www.datanyze.com/companies/opensea/452495898\""
   ]
  },
  {
   "cell_type": "code",
   "execution_count": 15,
   "metadata": {},
   "outputs": [
    {
     "name": "stderr",
     "output_type": "stream",
     "text": [
      "INFO:httpx:HTTP Request: POST https://api.apify.com/v2/acts/apify~website-content-crawler/runs \"HTTP/1.1 201 Created\"\n",
      "INFO:httpx:HTTP Request: GET https://api.apify.com/v2/actor-runs/nGbdKttmeb9v6akwd?waitForFinish=999999 \"HTTP/1.1 200 OK\"\n"
     ]
    }
   ],
   "source": [
    "# Create and run the scraping task\n",
    "dataset_id = create_scraping_task(apify_client, actor_id, url_to_scrape)"
   ]
  },
  {
   "cell_type": "code",
   "execution_count": 16,
   "metadata": {},
   "outputs": [
    {
     "name": "stdout",
     "output_type": "stream",
     "text": [
      "01XgIpjmnSeIy0QOj\n"
     ]
    }
   ],
   "source": [
    "print(dataset_id)"
   ]
  },
  {
   "cell_type": "code",
   "execution_count": 17,
   "metadata": {},
   "outputs": [
    {
     "name": "stderr",
     "output_type": "stream",
     "text": [
      "INFO:httpx:HTTP Request: GET https://api.apify.com/v2/datasets/01XgIpjmnSeIy0QOj/items \"HTTP/1.1 200 OK\"\n"
     ]
    },
    {
     "name": "stdout",
     "output_type": "stream",
     "text": [
      "OpenSea Company Profile | Management and Employees List\n",
      "OpenSea Profile and History\n",
      "OpenSea was founded in 2017 and is the first peer-to-peer marketplace for blockchain-based assets, which include collectibles, gaming items, digital art, domain names, event tickets, and physical assets backed by a blockchain. OpenSea is headquartered in New York, United States. \n",
      "Popular Searches\n",
      "OpenSea Inc\n",
      "Opensea\n",
      "Open Earth Foundation\n",
      "OpenSea.pro\n",
      "OpenSea.pro Inc\n",
      "Primary Industries\n",
      "Contact Information\n",
      "Headquarters\n",
      "Revenue \n",
      "$42 M\n",
      "Employees \n",
      "200\n",
      "Founded \n",
      "2017\n",
      "Funding History\n",
      "OpenSea raised a total of $425 M in funding over 4 rounds.\n",
      "OpenSea Executive Team & Key Decision Makers\n",
      "Recently Updated Team Members\n",
      "Name & TitleSocialContact Info\n",
      "Stephen Chen\n",
      "Revenue Accounting and Financial Operations\n",
      "\t\t\n",
      "Email\n",
      "Phone\n",
      "\t\n",
      "Reveal for Free\n",
      "\t\n",
      "Janindu Dharmadasa\n",
      "Small Business Owner\n",
      "\t\t\n",
      "Email\n",
      "Phone\n",
      "\t\n",
      "Reveal for Free\n",
      "\t\n",
      "John Towell\n",
      "Staff Software Engineer\n",
      "\t\t\n",
      "Email\n",
      "Phone\n",
      "\t\n",
      "Reveal for Free\n",
      "\t\n",
      "Ali Janela\n",
      "Senior Manager, Operations\n",
      "\t\t\n",
      "Email\n",
      "Phone\n",
      "\t\n",
      "Reveal for Free\n",
      "\t\n",
      "Hannah Vanek\n",
      "Manager, Web Editorial\n",
      "\t\t\n",
      "Email\n",
      "Phone\n",
      "\t\n",
      "Reveal for Free\n",
      "\t\n",
      "Jeff Peroutka\n",
      "Search Engine Optimization Consultant\n",
      "\t\t\n",
      "Email\n",
      "Phone\n",
      "\t\n",
      "Reveal for Free\n",
      "\t\n",
      "Michael Cohen\n",
      "Senior Software Engineer\n",
      "\t\t\n",
      "Email\n",
      "Phone\n",
      "\t\n",
      "Reveal for Free\n",
      "\t\n",
      "Oliver Maroney\n",
      "Gaming Partnerships\n",
      "\t\t\n",
      "Email\n",
      "Phone\n",
      "\t\n",
      "Reveal for Free\n",
      "\t\n",
      "Seyithan Dincer\n",
      "NFT Artist\n",
      "\t\t\n",
      "Email\n",
      "Phone\n",
      "\t\n",
      "Reveal for Free\n",
      "\t\n",
      "Christopher Terech\n",
      "Senior Software Engineer\n",
      "\t\t\n",
      "Email\n",
      "Phone\n",
      "\t\n",
      "Reveal for Free\n",
      "\t\n",
      "Omer Farbman\n",
      "Manager, Organizational Development\n",
      "\t\t\n",
      "Email\n",
      "Phone\n",
      "\t\n",
      "Reveal for Free\n",
      "\t\n",
      "Will Brooke\n",
      "Business Development, Web3 and Creators\n",
      "\t\t\n",
      "Email\n",
      "Phone\n",
      "\t\n",
      "Reveal for Free\n",
      "\t\n",
      "Jeremy Fine\n",
      "Business & Corporate Development Head\n",
      "\t\t\n",
      "Email\n",
      "Phone\n",
      "\t\n",
      "Reveal for Free\n",
      "\t\n",
      "Top OpenSea Integrations and Technologies\n",
      "Here's a list of some of the top trending technologies and APIs used by OpenSea.\n",
      "Programming Languages\n",
      "(8 Technologies)\n",
      "Corporate Learning Management Systems\n",
      "(4 Technologies)\n",
      "Frameworks and Libraries\n",
      "(3 Technologies)\n",
      "Other Security Software\n",
      "(2 Technologies)\n",
      "Applicant Tracking Systems\n",
      "(2 Technologies)\n",
      "OpenSea Email Formats\n",
      "ParameterSample EmailPercentage\n",
      "1\tfirst.last\tJohn.Smith@opensea.io\t\t\n",
      "2\tfirst initials + last\tJSmith@opensea.io\t\t\n",
      "3\tfirst\tJohn@opensea.io\t\t\n",
      "4\tfirst + last\tJohnSmith@opensea.io\t\t\n",
      "5\tfirst_last\tJohn_Smith@opensea.io\t\t\n",
      "6\tlast\tSmith@opensea.io\t\t\n",
      "OpenSea Top Competitors\n",
      "CompanyEmployeesRevenueTop technologies\n",
      "Decentraland\n",
      "\t97\t$20.4 M\t\t\n",
      "Chiliz\n",
      "\t411\t$17.1 M\t\t\n",
      "Uphold HQ Inc\n",
      "\t244\t$38 M\t\t\n",
      "Sessia LLC\n",
      "\t61\t$4.5 M\t\t\n",
      "Globitex Inc\n",
      "\t32\t$6.8 M\t\t\n",
      "OpenSea has 200 employees\n",
      "OpenSea headquarters are located in 105 E 24th St Apmt 4D, New York City, New York, 10010, United States \n",
      "OpenSea’s main industries are: Financial Software, Software\n",
      "OpenSea’s CEO is S.M.Fahim Sabri \n",
      "OpenSea appears in search results as OpenSea Inc, Opensea, Open Earth Foundation\n",
      "OpenSea.pro, OpenSea.pro Inc\n",
      "...See More\n"
     ]
    }
   ],
   "source": [
    "# Fetch the raw HTML results\n",
    "raw_data = fetch_results(apify_client, dataset_id)\n",
    "print(raw_data)"
   ]
  },
  {
   "cell_type": "code",
   "execution_count": 18,
   "metadata": {},
   "outputs": [
    {
     "name": "stdout",
     "output_type": "stream",
     "text": [
      "{\n",
      "    \"url\": \"https://www.datanyze.com/companies/opensea/452495898\",\n",
      "    \"raw_data\": \"OpenSea Company Profile | Management and Employees List\\nOpenSea Profile and History\\nOpenSea was founded in 2017 and is the first peer-to-peer marketplace for blockchain-based assets, which include collectibles, gaming items, digital art, domain names, event tickets, and physical assets backed by a blockchain. OpenSea is headquartered in New York, United States. \\nPopular Searches\\nOpenSea Inc\\nOpensea\\nOpen Earth Foundation\\nOpenSea.pro\\nOpenSea.pro Inc\\nPrimary Industries\\nContact Information\\nHeadquarters\\nRevenue \\n$42 M\\nEmployees \\n200\\nFounded \\n2017\\nFunding History\\nOpenSea raised a total of $425 M in funding over 4 rounds.\\nOpenSea Executive Team & Key Decision Makers\\nRecently Updated Team Members\\nName & TitleSocialContact Info\\nStephen Chen\\nRevenue Accounting and Financial Operations\\n\\t\\t\\nEmail\\nPhone\\n\\t\\nReveal for Free\\n\\t\\nJanindu Dharmadasa\\nSmall Business Owner\\n\\t\\t\\nEmail\\nPhone\\n\\t\\nReveal for Free\\n\\t\\nJohn Towell\\nStaff Software Engineer\\n\\t\\t\\nEmail\\nPhone\\n\\t\\nReveal for Free\\n\\t\\nAli Janela\\nSenior Manager, Operations\\n\\t\\t\\nEmail\\nPhone\\n\\t\\nReveal for Free\\n\\t\\nHannah Vanek\\nManager, Web Editorial\\n\\t\\t\\nEmail\\nPhone\\n\\t\\nReveal for Free\\n\\t\\nJeff Peroutka\\nSearch Engine Optimization Consultant\\n\\t\\t\\nEmail\\nPhone\\n\\t\\nReveal for Free\\n\\t\\nMichael Cohen\\nSenior Software Engineer\\n\\t\\t\\nEmail\\nPhone\\n\\t\\nReveal for Free\\n\\t\\nOliver Maroney\\nGaming Partnerships\\n\\t\\t\\nEmail\\nPhone\\n\\t\\nReveal for Free\\n\\t\\nSeyithan Dincer\\nNFT Artist\\n\\t\\t\\nEmail\\nPhone\\n\\t\\nReveal for Free\\n\\t\\nChristopher Terech\\nSenior Software Engineer\\n\\t\\t\\nEmail\\nPhone\\n\\t\\nReveal for Free\\n\\t\\nOmer Farbman\\nManager, Organizational Development\\n\\t\\t\\nEmail\\nPhone\\n\\t\\nReveal for Free\\n\\t\\nWill Brooke\\nBusiness Development, Web3 and Creators\\n\\t\\t\\nEmail\\nPhone\\n\\t\\nReveal for Free\\n\\t\\nJeremy Fine\\nBusiness & Corporate Development Head\\n\\t\\t\\nEmail\\nPhone\\n\\t\\nReveal for Free\\n\\t\\nTop OpenSea Integrations and Technologies\\nHere's a list of some of the top trending technologies and APIs used by OpenSea.\\nProgramming Languages\\n(8 Technologies)\\nCorporate Learning Management Systems\\n(4 Technologies)\\nFrameworks and Libraries\\n(3 Technologies)\\nOther Security Software\\n(2 Technologies)\\nApplicant Tracking Systems\\n(2 Technologies)\\nOpenSea Email Formats\\nParameterSample EmailPercentage\\n1\\tfirst.last\\tJohn.Smith@opensea.io\\t\\t\\n2\\tfirst initials + last\\tJSmith@opensea.io\\t\\t\\n3\\tfirst\\tJohn@opensea.io\\t\\t\\n4\\tfirst + last\\tJohnSmith@opensea.io\\t\\t\\n5\\tfirst_last\\tJohn_Smith@opensea.io\\t\\t\\n6\\tlast\\tSmith@opensea.io\\t\\t\\nOpenSea Top Competitors\\nCompanyEmployeesRevenueTop technologies\\nDecentraland\\n\\t97\\t$20.4 M\\t\\t\\nChiliz\\n\\t411\\t$17.1 M\\t\\t\\nUphold HQ Inc\\n\\t244\\t$38 M\\t\\t\\nSessia LLC\\n\\t61\\t$4.5 M\\t\\t\\nGlobitex Inc\\n\\t32\\t$6.8 M\\t\\t\\nOpenSea has 200 employees\\nOpenSea headquarters are located in 105 E 24th St Apmt 4D, New York City, New York, 10010, United States \\nOpenSea\\u2019s main industries are: Financial Software, Software\\nOpenSea\\u2019s CEO is S.M.Fahim Sabri \\nOpenSea appears in search results as OpenSea Inc, Opensea, Open Earth Foundation\\nOpenSea.pro, OpenSea.pro Inc\\n...See More\"\n",
      "}\n"
     ]
    }
   ],
   "source": [
    "# Parse the results into a dictionary\n",
    "parsed_results = {\n",
    "    \"url\": url_to_scrape,\n",
    "    \"raw_data\": raw_data\n",
    "}\n",
    "\n",
    "# Display the results\n",
    "import json\n",
    "print(json.dumps(parsed_results, indent=4))"
   ]
  },
  {
   "cell_type": "markdown",
   "metadata": {},
   "source": [
    "1.\tItem 1:\n",
    "\t•\ttitle: OPENSEA GROUP LIMITED - Find and update company information\n",
    "\t•\thref: link\n",
    "\t•\tsearch_category: Company Information\n",
    "\t•\tsource_type: Official Government Website\n",
    "\t2.\tItem 2:\n",
    "\t•\ttitle: OpenSea Company Profile | Management and Employees List - Datanyze\n",
    "\t•\thref: link\n",
    "\t•\tsearch_category: Company Profile\n",
    "\t•\tsource_type: Business Directory\n",
    "\t3.\tItem 3:\n",
    "\t•\ttitle: OpenSea - Wikipedia\n",
    "\t•\thref: link\n",
    "\t•\tsearch_category: Company Profile\n",
    "\t•\tsource_type: Encyclopedia\n",
    "\t4.\tItem 4:\n",
    "\t•\ttitle: Welcoming Chris Dixon to our Board of Directors | OpenSea\n",
    "\t•\thref: link\n",
    "\t•\tsearch_category: Company News\n",
    "\t•\tsource_type: Company Blog\n",
    "\t5.\tItem 5:\n",
    "\t•\ttitle: Category - Company | OpenSea\n",
    "\t•\thref: link\n",
    "\t•\tsearch_category: Company News\n",
    "\t•\tsource_type: Company Blog\n",
    "\t6.\tItem 6:\n",
    "\t•\ttitle: OpenSea CEO and Key Executive Team | Craft.co\n",
    "\t•\thref: link\n",
    "\t•\tsearch_category: Company Profile\n",
    "\t•\tsource_type: Business Directory\n",
    "\t7.\tItem 7:\n",
    "\t•\ttitle: OpenSea | Company Overview & News - Forbes\n",
    "\t•\thref: link\n",
    "\t•\tsearch_category: Company Overview\n",
    "\t•\tsource_type: News Website\n",
    "\t8.\tItem 8:\n",
    "\t•\ttitle: OpenSea’s Leadership Team - Team members and org chart | The Org\n",
    "\t•\thref: link\n",
    "\t•\tsearch_category: Company Profile\n",
    "\t•\tsource_type: Organizational Chart\n",
    "\t9.\tItem 9:\n",
    "\t•\ttitle: OpenSea - Founders and Board of Directors - Tracxn\n",
    "\t•\thref: link\n",
    "\t•\tsearch_category: Company Profile\n",
    "\t•\tsource_type: Business Directory\n",
    "\t10.\tItem 10:\n",
    "\t•\ttitle: OpenSea | The Org\n",
    "\t•\thref: link\n",
    "\t•\tsearch_category: Company Profile\n",
    "\t•\tsource_type: Organizational Chart"
   ]
  }
 ],
 "metadata": {
  "kernelspec": {
   "display_name": ".venv",
   "language": "python",
   "name": "python3"
  },
  "language_info": {
   "codemirror_mode": {
    "name": "ipython",
    "version": 3
   },
   "file_extension": ".py",
   "mimetype": "text/x-python",
   "name": "python",
   "nbconvert_exporter": "python",
   "pygments_lexer": "ipython3",
   "version": "3.11.3"
  }
 },
 "nbformat": 4,
 "nbformat_minor": 2
}
