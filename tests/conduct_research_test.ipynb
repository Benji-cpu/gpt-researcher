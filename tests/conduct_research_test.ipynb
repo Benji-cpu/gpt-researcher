{
 "cells": [
  {
   "cell_type": "code",
   "execution_count": 1,
   "metadata": {},
   "outputs": [],
   "source": [
    "import os\n",
    "import asyncio\n",
    "from dotenv import load_dotenv\n",
    "from sf_primary_agent import SFPrimaryAgent\n",
    "from sf_researcher.context.pinecone_utils import PineconeManager\n",
    "from sf_researcher.memory import Memory\n",
    "from sf_researcher.master.functions import construct_contacts\n",
    "import logging\n",
    "\n",
    "# Configure logging\n",
    "logging.basicConfig(level=logging.INFO)\n",
    "logger = logging.getLogger(__name__)"
   ]
  },
  {
   "cell_type": "code",
   "execution_count": 2,
   "metadata": {},
   "outputs": [],
   "source": [
    "LANGCHAIN_TRACING_V2 = os.getenv(\"LANGCHAIN_TRACING_V2\")\n",
    "LANGCHAIN_ENDPOINT = os.getenv(\"LANGCHAIN_ENDPOINT\")\n",
    "LANGCHAIN_API_KEY = os.getenv(\"LANGCHAIN_API_KEY\")\n",
    "LANGCHAIN_PROJECT = os.getenv(\"LANGCHAIN_PROJECT\")"
   ]
  },
  {
   "cell_type": "code",
   "execution_count": 3,
   "metadata": {},
   "outputs": [],
   "source": [
    "request = {\n",
    "    \"query\": \"OpenSea\",\n",
    "    \"contacts\": [],\n",
    "    \"include_domains\": [],\n",
    "    \"exclude_domains\": [],\n",
    "    \"parent_sub_queries\": [\n",
    "        \"\\\"OpenSea\\\" company registered directors\"\n",
    "    ],\n",
    "    \"child_sub_queries\": [\n",
    "        \"director data\"\n",
    "    ],\n",
    "    \"salesforce_id\": \"00QQy000007D0hKMAS\",\n",
    "    \"parent_retreiver_queries\": [\n",
    "        \"OpenSea directors\"\n",
    "    ],\n",
    "    \"child_retreiver_queries\": [\n",
    "        \"director data\"\n",
    "    ]\n",
    "}\n",
    "main_report_type=\"compliance_report\"\n",
    "child_report_type=\"contact_report\""
   ]
  },
  {
   "cell_type": "code",
   "execution_count": 4,
   "metadata": {},
   "outputs": [
    {
     "name": "stderr",
     "output_type": "stream",
     "text": [
      "INFO:sf_primary_agent:No contacts provided. Contacts will be constructed.\n"
     ]
    }
   ],
   "source": [
    "researcher = SFPrimaryAgent(\n",
    "        query=request[\"query\"],\n",
    "        namespace=request[\"salesforce_id\"],\n",
    "        source_urls=None,\n",
    "        config_path=\"\",\n",
    "        contacts=request[\"contacts\"],\n",
    "        include_domains=request[\"include_domains\"],\n",
    "        exclude_domains=request[\"exclude_domains\"],\n",
    "        main_report_type=main_report_type,\n",
    "        child_report_type=child_report_type,\n",
    "        parent_sub_queries=request[\"parent_sub_queries\"],\n",
    "        child_sub_queries=request[\"child_sub_queries\"],\n",
    "        parent_retreiver_queries=request[\"parent_retreiver_queries\"],\n",
    "        child_retreiver_queries=request[\"child_retreiver_queries\"]\n",
    "    )"
   ]
  },
  {
   "cell_type": "code",
   "execution_count": 5,
   "metadata": {},
   "outputs": [
    {
     "name": "stdout",
     "output_type": "stream",
     "text": [
      "🔎 Starting the research task for 'OpenSea'...\n",
      "Compliance Agent\n"
     ]
    },
    {
     "name": "stderr",
     "output_type": "stream",
     "text": [
      "INFO:sf_researcher.master.agent:\n",
      "🔧 get_new_urls results:\n",
      "['https://en.wikipedia.org/wiki/OpenSea', 'https://opensea.io/blog/articles/welcoming-chris-dixon-to-our-board-of-directors', 'https://www.datanyze.com/companies/opensea/452495898', 'https://www.forbes.com/companies/opensea/', 'https://www.cbinsights.com/company/opensea/people']\n",
      "\n"
     ]
    },
    {
     "name": "stdout",
     "output_type": "stream",
     "text": [
      "✅ Added source url to research: https://en.wikipedia.org/wiki/OpenSea\n",
      "\n",
      "✅ Added source url to research: https://opensea.io/blog/articles/welcoming-chris-dixon-to-our-board-of-directors\n",
      "\n",
      "✅ Added source url to research: https://www.datanyze.com/companies/opensea/452495898\n",
      "\n",
      "✅ Added source url to research: https://www.forbes.com/companies/opensea/\n",
      "\n",
      "✅ Added source url to research: https://www.cbinsights.com/company/opensea/people\n",
      "\n",
      "🤔 Scraping sites for relevant information...\n",
      "\n"
     ]
    },
    {
     "name": "stderr",
     "output_type": "stream",
     "text": [
      "ERROR:sf_researcher.scraper.beautiful_soup.beautiful_soup:❌ beautiful_soup.py Failed to fetch URL: https://www.datanyze.com/companies/opensea/452495898, Status code: 403\n",
      "WARNING:sf_researcher.scraper.scraper:❌ scraper.py Scraped content too short for URL: https://www.datanyze.com/companies/opensea/452495898\n",
      " content: \n",
      "\n",
      "INFO:sf_researcher.master.agent:\n",
      "🌐 scrape_urls content results for sub-query '\"OpenSea\" company registered directors':\n",
      " [{'url': 'https://en.wikipedia.org/wiki/OpenSea', 'raw_content': 'Contents\\nOpenSea\\nOpenSea is an American non-fungible token (NFT) marketplace headquartered in New York City. The company was founded by Devin Finzer and Alex Atallah in 2017.[2][3]\\nOpenSea offers a marketplace online allowing for non-fungible tokens to be sold directly at a fixed price, or through an auction.\\nHistory[edit]\\nDevin Finzer and Alex Atallah founded OpenSea in December 2017.[4] They were inspired by CryptoKitties, a blockchain-based game featuring non-fungible tokens that had been released earlier that year.[4] Finzer and Atallah believed that OpenSea could be a marketplace for buying NFT tokens like those.[4] Y Combinator accepted OpenSea into its accelerator program in 2018,[4] and in an announcement described the startup as a \"peer-to-peer marketplace for cryptogoods\".[5]\\nAfter finishing the pre-seed round by Y Combinator, OpenSea raised $2.1 million in venture capital in November 2019.[6]\\nIn March 2020, the platform had 4,000 active users completing $1.1 million in transactions a month.[7] By July 2021, users were completing $350 million in transactions a month,[7] and the company was valued at $1.5 billion—meaning unicorn status—after a $100 million Series B venture round led by Andreessen Horowitz.[8] In August 2021, the value of monthly transactions spiked to $3.4 billion, and in November OpenSea had 1.8 million active users.[7]\\nOn September 14 of that same year, Nate Chastain, the then-head of product at OpenSea, was accused of insider trading after it was revealed that he bought NFTs shortly before they were showcased on OpenSea\\'s front page, subsequently selling them at higher values.[9][10] The next day OpenSea acknowledged the accusations and launched an internal review.[9] On September 16, OpenSea announced that Chastain had resigned.[11] In May 2023, Chastain was convicted of wire fraud and money laundering in federal court and later sentenced to three months in prison.[12]\\nIn January 2022, the company was valued at $13.3 billion and was described by The New York Times as being \"one of the most talked-about blockchain start-ups in Silicon Valley\".[13] The daily trading volume on the OpenSea marketplace reached $2.7 billion on May 1, 2022, but four months later had dropped by 99%.[14][15]\\nIn January 2022, OpenSea acquired Ethereum wallet-maker Dharma Labs.[16]\\nLater that month, OpenSea reimbursed users about $1.8 million after a user interface bug allowed users to buy more than $1 million worth of NFTs at a discount.[17][18]\\nOn January 27, 2022, OpenSea announced it would limit how many NFTs a user could create using the free minting tool.[19] The following day, OpenSea reversed the decision.[20] The company stated that its initial decision was based on concern about theft, plagiarism, and spam,[19] as\\n80% of the NFTs removed from OpenSea for violations were minted using the tool.[21]\\nOn February 19, 2022, some users began to report that some of their NFTs disappeared. OpenSea later revealed a phishing attack had taken place on its platform via an exploit in the Wyvern Platform.[22] The next day, The Verge reported that hundreds of NFTs were stolen from OpenSea users causing a huge panic among the platform community. The estimated value of the stolen tokens was more than $1.7 million. According to OpenSea, only 32 users had been affected. OpenSea later revised its statement to note that 17 users were directly affected, while the other 15 users had interacted with the attacker but had not lost tokens as a result.[23]\\nIn March 2022, OpenSea confirmed that it was blocking accounts in countries that are subject to United States sanctions.[24]\\nOn April 25, 2022, OpenSea announced the acquisition of the NFT marketplace aggregator company Gem.xyz.[25]\\nOn June 30, 2022 OpenSea reported a major email data breach had occurred when a senior engineer at an email vendor, Customer.io, misused his employee access to download and share OpenSea user email addresses with an \"external bad actor.\" Over 1.8 million email addresses are said to have been leaked.[26] In July 2022, Customer.io revealed that five other companies were also impacted by the employee\\'s data leak.[27]\\nOn July 14, 2022, chief executive Devin Finzer tweeted that the company was cutting one in five of its employees.[28][29]\\nThe daily volume of NFT transactions on OpenSea peaked at $2.7 billion on May 1, 2022, but then dropped by 99% within four months to just $9.34 million on August 28, with daily users down a third to 24,020.[30]\\nFunding[edit]\\nFeatures[edit]\\nIn December 2020, OpenSea announced that any user could mint NFTs on its platform for free. Later, in March 2021, OpenSea announced NFT collections would not need to be approved to be listed; this decision was later criticized for allowing rampant plagiarism on the platform.[36]\\nOn September 17, 2021, OpenSea released an app for Android and iOS. The app allows for browsing the marketplace, but as of March 2023, the app does not allow buying or selling NFTs.[37][38]\\nReferences[edit]\\nExternal links[edit]'}, {'url': 'https://opensea.io/blog/articles/welcoming-chris-dixon-to-our-board-of-directors', 'raw_content': 'Announcements\\nWelcoming Chris Dixon to our Board of Directorsï¿¼\\nAnnouncements\\nWelcoming Chris Dixon to our Board of Directorsï¿¼\\nIâ\\x80\\x99m excited to formally welcome Chris Dixon to the OpenSea Board of Directors. Chris has been extremely influential in shaping my views on web3. I followed his writing closely when I first fell down the â\\x80\\x9ccrypto rabbithole,â\\x80\\x9d and met him in 2021 when a16z first expressed interest in investing in OpenSea. Since then, weâ\\x80\\x99ve spent a ton of time together and he has served as a consistent thought partner and advisor to us.\\nAnyone who has spent time with Chris knows he is a principled, rigorous, and intellectually honest thinker, and he consistently pushes us to zoom out and make sure weâ\\x80\\x99re solving for the long term arc of the NFT space. Because Chris doesnâ\\x80\\x99t join many boards, he can go extremely deep into the weeds, build continuous context on the business, and provide strategic and relevant recommendations. Itâ\\x80\\x99s been great transitioning him to the Board, because itâ\\x80\\x99s allowed us to spend more regular time together going deep into our product roadmap and business strategy.\\nChris is taking over the a16z board seat from Katie Haun as part of her departure from a16z to start Haun Ventures. Katie has been another invaluable source of wisdom for OpenSea over the years. And thanks to her long standing relationship with Chris, she was able to execute a smooth handoff and remains close to us in her capacity as an investor through Haun Ventures.\\nWeâ\\x80\\x99re grateful for all that Katieâ\\x80\\x99s done for OpenSea over the years, and couldnâ\\x80\\x99t be more excited to build for the future of the NFT ecosystem with Chris on our Board, and Katie by our side.\\nRelated articles'}, {'url': 'https://www.forbes.com/companies/opensea/', 'raw_content': 'OpenSea\\nFunding: $423 million from Andreessen Horowitz, Paradigm, Haun Ventures and others.\\nLatest valuation: $13.3 billio... Read More\\nFunding: $423 million from Andreessen Horowitz, Paradigm, Haun Ventures and others.\\nLatest valuation: $13.3 billion.\\nBona fides: Has been processing about $3 billion in NFT transactions monthly, earning about $75 million in monthly revenue.\\nCofounders: CEO Devin Finzer, 31, and CTO Alex Atallah, 30. They became the first NFT billionaires in January 2021.\\nRead Less\\nForbes Lists\\nMore on Forbes\\nWorld No. 1 Djokovic Survives 5-Set Epic To Advance In French Open Match That Ends After 3 AM\\nToday’s ‘Wordle’ #1079 Hints, Clues And Answer For Sunday, June 2nd\\nHow To Watch ‘The Life And Murder Of Nicole Brown Simpson’ Documentary\\nSeason One Of Hulu’s Hit ‘The Bear’ To Air On FX\\nThe 10 Best New Movies On Netflix In June 2024\\nCaitlin Clark’s WNBA Debut Explained: Rough Play Complaints As Suspension Threat Looms\\nUpside-Down ‘Distress’ Flag Popular With Trump Supporters—And Black Lives Matter, Abortion Rights Protesters (Photos)\\nOn Friday, Ukraine Got Permission To Launch American Rockets At Targets Inside Russia. Hours Later, HIMARS Opened Fire.\\n‘Call Of Duty’ Celebrates Pride Month With A Free Bundle\\nUFC 302 Results: Winners And Losers From Makhachev Vs. Poirier Card\\nIndy 500 Winner Josef Newgarden Signs Contract Extension At Team Penske\\nNew 3-On-3 Women’s League Highlights Differences Between WNBA And NBA\\nNetflix’s ‘3 Body Problem’ Secures Three Seasons For Trilogy—What Lies Ahead?\\nIndia Have Everything But The Trophy As T20 World Cup Begins\\nMeet America’s Best Startup Employers 2024\\nAmerica’s Best Startup Employers 2024 Methodology\\nFORBES PROFILES\\nCapitalize on your Achievement\\nalso on forbes'}, {'url': 'https://www.cbinsights.com/company/opensea/people', 'raw_content': \"Wells Fargo Success Story\\nLearn More →\\nProfessional Services\\nLearn More →\\nPlatform Overview\\nLearn More →\\nLoading...\\nOpenSea\\nExecutives\\nOpenSea Management Team\\n5 Team Members\\nOpenSea has 5 executives. OpenSea's\\ncurrent Founder, Chief Executive Officer is Devin\\nFinzer.\\nName\\nWork History\\nTitle\\nStatus\\nDevin\\nFinzer\\nCredit Karma, Pinterest, Flipboard, Google, and Wikimedia Foundation\\nFounder, Chief Executive Officer\\nCurrent\\nSubscribe to see more\\nSubscribe to see more\\nSubscribe to see more\\nSubscribe to see more\\nSubscribe to see more\\nSubscribe to see more\\nSubscribe to see more\\nSubscribe to see more\\nSubscribe to see more\\nSubscribe to see more\\nSubscribe to see more\\nSubscribe to see more\\nSubscribe to see more\\nSubscribe to see more\\nSubscribe to see more\\nSubscribe to see more\\nName\\nDevin\\nFinzer\\nSubscribe to see more\\nSubscribe to see more\\nSubscribe to see more\\nSubscribe to see more\\nWork History\\nCredit Karma, Pinterest, Flipboard, Google, and Wikimedia Foundation\\nSubscribe to see more\\nSubscribe to see more\\nSubscribe to see more\\nSubscribe to see more\\nTitle\\nFounder, Chief Executive Officer\\nSubscribe to see more\\nSubscribe to see more\\nSubscribe to see more\\nSubscribe to see more\\nStatus\\nCurrent\\nSubscribe to see more\\nSubscribe to see more\\nSubscribe to see more\\nSubscribe to see more\\nCompare OpenSea to Competitors\\nDixel Club is a company focused on providing a platform for launching non-fungible token (NFT) collections in the digital asset industry. Their main service allows users to quickly create and mint their own NFT collections, with a feature for minting various color editions following an original genesis edition. The platform caters to individuals and creators interested in the NFT marketplace. It is based in Singapore, Singapore.\\nMagic Eden operates as an online marketplace for non-fungible tokens (NFTs). It enables users to create and sell their NFTs on the blockchain network. It aims to be the platform for discovering, trading, and creating NFTs. The company was founded in 2021 and is based in San Francisco, California.\\nStarly provides a launchpad and marketplace for users' gamified non-fungible tokens (NFT) collections. It allows anyone to create Top Shot style NFT packs of their own content end-to-end. The company was founded in 2021 and is based in Central Singapore, Singapore.\\nExclusible operates as a gaming and immersive technology studio focusing on revolutionizing brand engagement. The company offers strategic solutions to integrate global brands into gaming communities, leveraging platforms like Roblox, Fortnite, and Minecraft to craft immersive experiences to resonate with younger audiences. It was founded in 2021 and is based in Cascais, Portugal.\\nMakersPlace operates a marketplace offering digital arts. It allows content creators to auction their creations such as photography, 3D art, illustration, animation, and more. The company was founded in 2018 and is based in San Francisco, California.\\nRarible focuses on the non-fungible token (NFT) sector, providing a marketplace for digital goods. It offer a platform for the discovery, purchase, and sale of NFTs, catering to brands, communities, and individual creators. The company primarily serves sectors that require blockchain technology for digital asset transactions. It was founded in 2020 and is based in Wilmington, Delaware.\\nLoading...\\nAbout\\nHow We Help\\nWhat We Offer\\nPopular Research\\nCopyright 2024 CB Information Services, Inc. All rights reserved.\\nCBI websites generally use certain cookies to enable better interactions with our sites and services. Use of these cookies, which may be stored on your device, permits us to improve and customize your experience. You can read more about your cookie choices at our privacy policy\\xa0here. By continuing to use this site you are consenting to these choices.\"}]\n",
      "\n",
      "INFO:sf_researcher.master.agent:\n",
      "📦 updated_search_results: \n",
      "[{'title': 'OpenSea - Wikipedia', 'href': 'https://en.wikipedia.org/wiki/OpenSea', 'body': 'Website. opensea .io. OpenSea is an American non-fungible token (NFT) marketplace headquartered in New York City. The company was founded by Devin Finzer and Alex Atallah in 2017. [2] [3] OpenSea offers a marketplace online allowing for non-fungible tokens to be sold directly at a fixed price, or through an auction.', 'raw_content': 'Contents\\nOpenSea\\nOpenSea is an American non-fungible token (NFT) marketplace headquartered in New York City. The company was founded by Devin Finzer and Alex Atallah in 2017.[2][3]\\nOpenSea offers a marketplace online allowing for non-fungible tokens to be sold directly at a fixed price, or through an auction.\\nHistory[edit]\\nDevin Finzer and Alex Atallah founded OpenSea in December 2017.[4] They were inspired by CryptoKitties, a blockchain-based game featuring non-fungible tokens that had been released earlier that year.[4] Finzer and Atallah believed that OpenSea could be a marketplace for buying NFT tokens like those.[4] Y Combinator accepted OpenSea into its accelerator program in 2018,[4] and in an announcement described the startup as a \"peer-to-peer marketplace for cryptogoods\".[5]\\nAfter finishing the pre-seed round by Y Combinator, OpenSea raised $2.1 million in venture capital in November 2019.[6]\\nIn March 2020, the platform had 4,000 active users completing $1.1 million in transactions a month.[7] By July 2021, users were completing $350 million in transactions a month,[7] and the company was valued at $1.5 billion—meaning unicorn status—after a $100 million Series B venture round led by Andreessen Horowitz.[8] In August 2021, the value of monthly transactions spiked to $3.4 billion, and in November OpenSea had 1.8 million active users.[7]\\nOn September 14 of that same year, Nate Chastain, the then-head of product at OpenSea, was accused of insider trading after it was revealed that he bought NFTs shortly before they were showcased on OpenSea\\'s front page, subsequently selling them at higher values.[9][10] The next day OpenSea acknowledged the accusations and launched an internal review.[9] On September 16, OpenSea announced that Chastain had resigned.[11] In May 2023, Chastain was convicted of wire fraud and money laundering in federal court and later sentenced to three months in prison.[12]\\nIn January 2022, the company was valued at $13.3 billion and was described by The New York Times as being \"one of the most talked-about blockchain start-ups in Silicon Valley\".[13] The daily trading volume on the OpenSea marketplace reached $2.7 billion on May 1, 2022, but four months later had dropped by 99%.[14][15]\\nIn January 2022, OpenSea acquired Ethereum wallet-maker Dharma Labs.[16]\\nLater that month, OpenSea reimbursed users about $1.8 million after a user interface bug allowed users to buy more than $1 million worth of NFTs at a discount.[17][18]\\nOn January 27, 2022, OpenSea announced it would limit how many NFTs a user could create using the free minting tool.[19] The following day, OpenSea reversed the decision.[20] The company stated that its initial decision was based on concern about theft, plagiarism, and spam,[19] as\\n80% of the NFTs removed from OpenSea for violations were minted using the tool.[21]\\nOn February 19, 2022, some users began to report that some of their NFTs disappeared. OpenSea later revealed a phishing attack had taken place on its platform via an exploit in the Wyvern Platform.[22] The next day, The Verge reported that hundreds of NFTs were stolen from OpenSea users causing a huge panic among the platform community. The estimated value of the stolen tokens was more than $1.7 million. According to OpenSea, only 32 users had been affected. OpenSea later revised its statement to note that 17 users were directly affected, while the other 15 users had interacted with the attacker but had not lost tokens as a result.[23]\\nIn March 2022, OpenSea confirmed that it was blocking accounts in countries that are subject to United States sanctions.[24]\\nOn April 25, 2022, OpenSea announced the acquisition of the NFT marketplace aggregator company Gem.xyz.[25]\\nOn June 30, 2022 OpenSea reported a major email data breach had occurred when a senior engineer at an email vendor, Customer.io, misused his employee access to download and share OpenSea user email addresses with an \"external bad actor.\" Over 1.8 million email addresses are said to have been leaked.[26] In July 2022, Customer.io revealed that five other companies were also impacted by the employee\\'s data leak.[27]\\nOn July 14, 2022, chief executive Devin Finzer tweeted that the company was cutting one in five of its employees.[28][29]\\nThe daily volume of NFT transactions on OpenSea peaked at $2.7 billion on May 1, 2022, but then dropped by 99% within four months to just $9.34 million on August 28, with daily users down a third to 24,020.[30]\\nFunding[edit]\\nFeatures[edit]\\nIn December 2020, OpenSea announced that any user could mint NFTs on its platform for free. Later, in March 2021, OpenSea announced NFT collections would not need to be approved to be listed; this decision was later criticized for allowing rampant plagiarism on the platform.[36]\\nOn September 17, 2021, OpenSea released an app for Android and iOS. The app allows for browsing the marketplace, but as of March 2023, the app does not allow buying or selling NFTs.[37][38]\\nReferences[edit]\\nExternal links[edit]'}, {'title': 'Welcoming Chris Dixon to our Board of Directors | OpenSea', 'href': 'https://opensea.io/blog/articles/welcoming-chris-dixon-to-our-board-of-directors', 'body': 'Published. July 30, 2022. I\\'m excited to formally welcome Chris Dixon to the OpenSea Board of Directors. Chris has been extremely influential in shaping my views on web3. I followed his writing closely when I first fell down the \"crypto rabbithole,\" and met him in 2021 when a16z first expressed interest in investing in OpenSea.', 'raw_content': 'Announcements\\nWelcoming Chris Dixon to our Board of Directorsï¿¼\\nAnnouncements\\nWelcoming Chris Dixon to our Board of Directorsï¿¼\\nIâ\\x80\\x99m excited to formally welcome Chris Dixon to the OpenSea Board of Directors. Chris has been extremely influential in shaping my views on web3. I followed his writing closely when I first fell down the â\\x80\\x9ccrypto rabbithole,â\\x80\\x9d and met him in 2021 when a16z first expressed interest in investing in OpenSea. Since then, weâ\\x80\\x99ve spent a ton of time together and he has served as a consistent thought partner and advisor to us.\\nAnyone who has spent time with Chris knows he is a principled, rigorous, and intellectually honest thinker, and he consistently pushes us to zoom out and make sure weâ\\x80\\x99re solving for the long term arc of the NFT space. Because Chris doesnâ\\x80\\x99t join many boards, he can go extremely deep into the weeds, build continuous context on the business, and provide strategic and relevant recommendations. Itâ\\x80\\x99s been great transitioning him to the Board, because itâ\\x80\\x99s allowed us to spend more regular time together going deep into our product roadmap and business strategy.\\nChris is taking over the a16z board seat from Katie Haun as part of her departure from a16z to start Haun Ventures. Katie has been another invaluable source of wisdom for OpenSea over the years. And thanks to her long standing relationship with Chris, she was able to execute a smooth handoff and remains close to us in her capacity as an investor through Haun Ventures.\\nWeâ\\x80\\x99re grateful for all that Katieâ\\x80\\x99s done for OpenSea over the years, and couldnâ\\x80\\x99t be more excited to build for the future of the NFT ecosystem with Chris on our Board, and Katie by our side.\\nRelated articles'}, {'title': 'OpenSea | Company Overview & News - Forbes', 'href': 'https://www.forbes.com/companies/opensea/', 'body': 'OpenSea. Founded nearly five years ago, this startup was an early player in the NFT market that took off in 2021. It operates as a peer-to-peer platform where users can create, buy and sell all ...', 'raw_content': 'OpenSea\\nFunding: $423 million from Andreessen Horowitz, Paradigm, Haun Ventures and others.\\nLatest valuation: $13.3 billio... Read More\\nFunding: $423 million from Andreessen Horowitz, Paradigm, Haun Ventures and others.\\nLatest valuation: $13.3 billion.\\nBona fides: Has been processing about $3 billion in NFT transactions monthly, earning about $75 million in monthly revenue.\\nCofounders: CEO Devin Finzer, 31, and CTO Alex Atallah, 30. They became the first NFT billionaires in January 2021.\\nRead Less\\nForbes Lists\\nMore on Forbes\\nWorld No. 1 Djokovic Survives 5-Set Epic To Advance In French Open Match That Ends After 3 AM\\nToday’s ‘Wordle’ #1079 Hints, Clues And Answer For Sunday, June 2nd\\nHow To Watch ‘The Life And Murder Of Nicole Brown Simpson’ Documentary\\nSeason One Of Hulu’s Hit ‘The Bear’ To Air On FX\\nThe 10 Best New Movies On Netflix In June 2024\\nCaitlin Clark’s WNBA Debut Explained: Rough Play Complaints As Suspension Threat Looms\\nUpside-Down ‘Distress’ Flag Popular With Trump Supporters—And Black Lives Matter, Abortion Rights Protesters (Photos)\\nOn Friday, Ukraine Got Permission To Launch American Rockets At Targets Inside Russia. Hours Later, HIMARS Opened Fire.\\n‘Call Of Duty’ Celebrates Pride Month With A Free Bundle\\nUFC 302 Results: Winners And Losers From Makhachev Vs. Poirier Card\\nIndy 500 Winner Josef Newgarden Signs Contract Extension At Team Penske\\nNew 3-On-3 Women’s League Highlights Differences Between WNBA And NBA\\nNetflix’s ‘3 Body Problem’ Secures Three Seasons For Trilogy—What Lies Ahead?\\nIndia Have Everything But The Trophy As T20 World Cup Begins\\nMeet America’s Best Startup Employers 2024\\nAmerica’s Best Startup Employers 2024 Methodology\\nFORBES PROFILES\\nCapitalize on your Achievement\\nalso on forbes'}, {'title': 'OpenSea CEO, Founder, Key Executive Team, Board of Directors & Employees', 'href': 'https://www.cbinsights.com/company/opensea/people', 'body': \"OpenSea Management Team. OpenSea has 5 executives. OpenSea's current Founder, Chief Executive Officer is Devin Finzer. You're one click away from the most comprehensive, unmatched analyst expertise in tech, in-depth private company data and a platform that brings it all together. Click Now.\", 'raw_content': \"Wells Fargo Success Story\\nLearn More →\\nProfessional Services\\nLearn More →\\nPlatform Overview\\nLearn More →\\nLoading...\\nOpenSea\\nExecutives\\nOpenSea Management Team\\n5 Team Members\\nOpenSea has 5 executives. OpenSea's\\ncurrent Founder, Chief Executive Officer is Devin\\nFinzer.\\nName\\nWork History\\nTitle\\nStatus\\nDevin\\nFinzer\\nCredit Karma, Pinterest, Flipboard, Google, and Wikimedia Foundation\\nFounder, Chief Executive Officer\\nCurrent\\nSubscribe to see more\\nSubscribe to see more\\nSubscribe to see more\\nSubscribe to see more\\nSubscribe to see more\\nSubscribe to see more\\nSubscribe to see more\\nSubscribe to see more\\nSubscribe to see more\\nSubscribe to see more\\nSubscribe to see more\\nSubscribe to see more\\nSubscribe to see more\\nSubscribe to see more\\nSubscribe to see more\\nSubscribe to see more\\nName\\nDevin\\nFinzer\\nSubscribe to see more\\nSubscribe to see more\\nSubscribe to see more\\nSubscribe to see more\\nWork History\\nCredit Karma, Pinterest, Flipboard, Google, and Wikimedia Foundation\\nSubscribe to see more\\nSubscribe to see more\\nSubscribe to see more\\nSubscribe to see more\\nTitle\\nFounder, Chief Executive Officer\\nSubscribe to see more\\nSubscribe to see more\\nSubscribe to see more\\nSubscribe to see more\\nStatus\\nCurrent\\nSubscribe to see more\\nSubscribe to see more\\nSubscribe to see more\\nSubscribe to see more\\nCompare OpenSea to Competitors\\nDixel Club is a company focused on providing a platform for launching non-fungible token (NFT) collections in the digital asset industry. Their main service allows users to quickly create and mint their own NFT collections, with a feature for minting various color editions following an original genesis edition. The platform caters to individuals and creators interested in the NFT marketplace. It is based in Singapore, Singapore.\\nMagic Eden operates as an online marketplace for non-fungible tokens (NFTs). It enables users to create and sell their NFTs on the blockchain network. It aims to be the platform for discovering, trading, and creating NFTs. The company was founded in 2021 and is based in San Francisco, California.\\nStarly provides a launchpad and marketplace for users' gamified non-fungible tokens (NFT) collections. It allows anyone to create Top Shot style NFT packs of their own content end-to-end. The company was founded in 2021 and is based in Central Singapore, Singapore.\\nExclusible operates as a gaming and immersive technology studio focusing on revolutionizing brand engagement. The company offers strategic solutions to integrate global brands into gaming communities, leveraging platforms like Roblox, Fortnite, and Minecraft to craft immersive experiences to resonate with younger audiences. It was founded in 2021 and is based in Cascais, Portugal.\\nMakersPlace operates a marketplace offering digital arts. It allows content creators to auction their creations such as photography, 3D art, illustration, animation, and more. The company was founded in 2018 and is based in San Francisco, California.\\nRarible focuses on the non-fungible token (NFT) sector, providing a marketplace for digital goods. It offer a platform for the discovery, purchase, and sale of NFTs, catering to brands, communities, and individual creators. The company primarily serves sectors that require blockchain technology for digital asset transactions. It was founded in 2020 and is based in Wilmington, Delaware.\\nLoading...\\nAbout\\nHow We Help\\nWhat We Offer\\nPopular Research\\nCopyright 2024 CB Information Services, Inc. All rights reserved.\\nCBI websites generally use certain cookies to enable better interactions with our sites and services. Use of these cookies, which may be stored on your device, permits us to improve and customize your experience. You can read more about your cookie choices at our privacy policy\\xa0here. By continuing to use this site you are consenting to these choices.\"}]\n",
      "\n",
      "INFO:sf_researcher.master.agent:\n",
      "🧩 agent.py pinecone insert results: \n",
      "[Document(page_content='Contents\\nOpenSea\\nOpenSea is an American non-fungible token (NFT) marketplace headquartered in New York City. The company was founded by Devin Finzer and Alex Atallah in 2017.[2][3]\\nOpenSea offers a marketplace online allowing for non-fungible tokens to be sold directly at a fixed price, or through an auction.\\nHistory[edit]\\nDevin Finzer and Alex Atallah founded OpenSea in December 2017.[4] They were inspired by CryptoKitties, a blockchain-based game featuring non-fungible tokens that had been released earlier that year.[4] Finzer and Atallah believed that OpenSea could be a marketplace for buying NFT tokens like those.[4] Y Combinator accepted OpenSea into its accelerator program in 2018,[4] and in an announcement described the startup as a \"peer-to-peer marketplace for cryptogoods\".[5]\\nAfter finishing the pre-seed round by Y Combinator, OpenSea raised $2.1 million in venture capital in November 2019.[6]\\nIn March 2020, the platform had 4,000 active users completing $1.1 million in transactions a month.[7] By July 2021, users were completing $350 million in transactions a month,[7] and the company was valued at $1.5 billion—meaning unicorn status—after a $100 million Series B venture round led by Andreessen Horowitz.[8] In August 2021, the value of monthly transactions spiked to $3.4 billion, and in November OpenSea had 1.8 million active users.[7]\\nOn September 14 of that same year, Nate Chastain, the then-head of product at OpenSea, was accused of insider trading after it was revealed that he bought NFTs shortly before they were showcased on OpenSea\\'s front page, subsequently selling them at higher values.[9][10] The next day OpenSea acknowledged the accusations and launched an internal review.[9] On September 16, OpenSea announced that Chastain had resigned.[11] In May 2023, Chastain was convicted of wire fraud and money laundering in federal court and later sentenced to three months in prison.[12]', metadata={'title': 'OpenSea - Wikipedia', 'source': 'https://en.wikipedia.org/wiki/OpenSea', 'source_type': 'web_search', 'chunk_index': 0}), Document(page_content='In January 2022, the company was valued at $13.3 billion and was described by The New York Times as being \"one of the most talked-about blockchain start-ups in Silicon Valley\".[13] The daily trading volume on the OpenSea marketplace reached $2.7 billion on May 1, 2022, but four months later had dropped by 99%.[14][15]\\nIn January 2022, OpenSea acquired Ethereum wallet-maker Dharma Labs.[16]\\nLater that month, OpenSea reimbursed users about $1.8 million after a user interface bug allowed users to buy more than $1 million worth of NFTs at a discount.[17][18]\\nOn January 27, 2022, OpenSea announced it would limit how many NFTs a user could create using the free minting tool.[19] The following day, OpenSea reversed the decision.[20] The company stated that its initial decision was based on concern about theft, plagiarism, and spam,[19] as\\n80% of the NFTs removed from OpenSea for violations were minted using the tool.[21]\\nOn February 19, 2022, some users began to report that some of their NFTs disappeared. OpenSea later revealed a phishing attack had taken place on its platform via an exploit in the Wyvern Platform.[22] The next day, The Verge reported that hundreds of NFTs were stolen from OpenSea users causing a huge panic among the platform community. The estimated value of the stolen tokens was more than $1.7 million. According to OpenSea, only 32 users had been affected. OpenSea later revised its statement to note that 17 users were directly affected, while the other 15 users had interacted with the attacker but had not lost tokens as a result.[23]\\nIn March 2022, OpenSea confirmed that it was blocking accounts in countries that are subject to United States sanctions.[24]\\nOn April 25, 2022, OpenSea announced the acquisition of the NFT marketplace aggregator company Gem.xyz.[25]', metadata={'title': 'OpenSea - Wikipedia', 'source': 'https://en.wikipedia.org/wiki/OpenSea', 'source_type': 'web_search', 'chunk_index': 1}), Document(page_content='On April 25, 2022, OpenSea announced the acquisition of the NFT marketplace aggregator company Gem.xyz.[25]\\nOn June 30, 2022 OpenSea reported a major email data breach had occurred when a senior engineer at an email vendor, Customer.io, misused his employee access to download and share OpenSea user email addresses with an \"external bad actor.\" Over 1.8 million email addresses are said to have been leaked.[26] In July 2022, Customer.io revealed that five other companies were also impacted by the employee\\'s data leak.[27]\\nOn July 14, 2022, chief executive Devin Finzer tweeted that the company was cutting one in five of its employees.[28][29]\\nThe daily volume of NFT transactions on OpenSea peaked at $2.7 billion on May 1, 2022, but then dropped by 99% within four months to just $9.34 million on August 28, with daily users down a third to 24,020.[30]\\nFunding[edit]\\nFeatures[edit]\\nIn December 2020, OpenSea announced that any user could mint NFTs on its platform for free. Later, in March 2021, OpenSea announced NFT collections would not need to be approved to be listed; this decision was later criticized for allowing rampant plagiarism on the platform.[36]\\nOn September 17, 2021, OpenSea released an app for Android and iOS. The app allows for browsing the marketplace, but as of March 2023, the app does not allow buying or selling NFTs.[37][38]\\nReferences[edit]\\nExternal links[edit]', metadata={'title': 'OpenSea - Wikipedia', 'source': 'https://en.wikipedia.org/wiki/OpenSea', 'source_type': 'web_search', 'chunk_index': 2}), Document(page_content='Announcements\\nWelcoming Chris Dixon to our Board of Directorsï¿¼\\nAnnouncements\\nWelcoming Chris Dixon to our Board of Directorsï¿¼\\nIâ\\x80\\x99m excited to formally welcome Chris Dixon to the OpenSea Board of Directors. Chris has been extremely influential in shaping my views on web3. I followed his writing closely when I first fell down the â\\x80\\x9ccrypto rabbithole,â\\x80\\x9d and met him in 2021 when a16z first expressed interest in investing in OpenSea. Since then, weâ\\x80\\x99ve spent a ton of time together and he has served as a consistent thought partner and advisor to us.\\nAnyone who has spent time with Chris knows he is a principled, rigorous, and intellectually honest thinker, and he consistently pushes us to zoom out and make sure weâ\\x80\\x99re solving for the long term arc of the NFT space. Because Chris doesnâ\\x80\\x99t join many boards, he can go extremely deep into the weeds, build continuous context on the business, and provide strategic and relevant recommendations. Itâ\\x80\\x99s been great transitioning him to the Board, because itâ\\x80\\x99s allowed us to spend more regular time together going deep into our product roadmap and business strategy.\\nChris is taking over the a16z board seat from Katie Haun as part of her departure from a16z to start Haun Ventures. Katie has been another invaluable source of wisdom for OpenSea over the years. And thanks to her long standing relationship with Chris, she was able to execute a smooth handoff and remains close to us in her capacity as an investor through Haun Ventures.\\nWeâ\\x80\\x99re grateful for all that Katieâ\\x80\\x99s done for OpenSea over the years, and couldnâ\\x80\\x99t be more excited to build for the future of the NFT ecosystem with Chris on our Board, and Katie by our side.\\nRelated articles', metadata={'title': 'Welcoming Chris Dixon to our Board of Directors | OpenSea', 'source': 'https://opensea.io/blog/articles/welcoming-chris-dixon-to-our-board-of-directors', 'source_type': 'web_search', 'chunk_index': 0}), Document(page_content='OpenSea\\nFunding: $423 million from Andreessen Horowitz, Paradigm, Haun Ventures and others.\\nLatest valuation: $13.3 billio... Read More\\nFunding: $423 million from Andreessen Horowitz, Paradigm, Haun Ventures and others.\\nLatest valuation: $13.3 billion.\\nBona fides: Has been processing about $3 billion in NFT transactions monthly, earning about $75 million in monthly revenue.\\nCofounders: CEO Devin Finzer, 31, and CTO Alex Atallah, 30. They became the first NFT billionaires in January 2021.\\nRead Less\\nForbes Lists\\nMore on Forbes\\nWorld No. 1 Djokovic Survives 5-Set Epic To Advance In French Open Match That Ends After 3 AM\\nToday’s ‘Wordle’ #1079 Hints, Clues And Answer For Sunday, June 2nd\\nHow To Watch ‘The Life And Murder Of Nicole Brown Simpson’ Documentary\\nSeason One Of Hulu’s Hit ‘The Bear’ To Air On FX\\nThe 10 Best New Movies On Netflix In June 2024\\nCaitlin Clark’s WNBA Debut Explained: Rough Play Complaints As Suspension Threat Looms\\nUpside-Down ‘Distress’ Flag Popular With Trump Supporters—And Black Lives Matter, Abortion Rights Protesters (Photos)\\nOn Friday, Ukraine Got Permission To Launch American Rockets At Targets Inside Russia. Hours Later, HIMARS Opened Fire.\\n‘Call Of Duty’ Celebrates Pride Month With A Free Bundle\\nUFC 302 Results: Winners And Losers From Makhachev Vs. Poirier Card\\nIndy 500 Winner Josef Newgarden Signs Contract Extension At Team Penske\\nNew 3-On-3 Women’s League Highlights Differences Between WNBA And NBA\\nNetflix’s ‘3 Body Problem’ Secures Three Seasons For Trilogy—What Lies Ahead?\\nIndia Have Everything But The Trophy As T20 World Cup Begins\\nMeet America’s Best Startup Employers 2024\\nAmerica’s Best Startup Employers 2024 Methodology\\nFORBES PROFILES\\nCapitalize on your Achievement\\nalso on forbes', metadata={'title': 'OpenSea | Company Overview & News - Forbes', 'source': 'https://www.forbes.com/companies/opensea/', 'source_type': 'web_search', 'chunk_index': 0}), Document(page_content=\"Wells Fargo Success Story\\nLearn More →\\nProfessional Services\\nLearn More →\\nPlatform Overview\\nLearn More →\\nLoading...\\nOpenSea\\nExecutives\\nOpenSea Management Team\\n5 Team Members\\nOpenSea has 5 executives. OpenSea's\\ncurrent Founder, Chief Executive Officer is Devin\\nFinzer.\\nName\\nWork History\\nTitle\\nStatus\\nDevin\\nFinzer\\nCredit Karma, Pinterest, Flipboard, Google, and Wikimedia Foundation\\nFounder, Chief Executive Officer\\nCurrent\\nSubscribe to see more\\nSubscribe to see more\\nSubscribe to see more\\nSubscribe to see more\\nSubscribe to see more\\nSubscribe to see more\\nSubscribe to see more\\nSubscribe to see more\\nSubscribe to see more\\nSubscribe to see more\\nSubscribe to see more\\nSubscribe to see more\\nSubscribe to see more\\nSubscribe to see more\\nSubscribe to see more\\nSubscribe to see more\\nName\\nDevin\\nFinzer\\nSubscribe to see more\\nSubscribe to see more\\nSubscribe to see more\\nSubscribe to see more\\nWork History\\nCredit Karma, Pinterest, Flipboard, Google, and Wikimedia Foundation\\nSubscribe to see more\\nSubscribe to see more\\nSubscribe to see more\\nSubscribe to see more\\nTitle\\nFounder, Chief Executive Officer\\nSubscribe to see more\\nSubscribe to see more\\nSubscribe to see more\\nSubscribe to see more\\nStatus\\nCurrent\\nSubscribe to see more\\nSubscribe to see more\\nSubscribe to see more\\nSubscribe to see more\\nCompare OpenSea to Competitors\\nDixel Club is a company focused on providing a platform for launching non-fungible token (NFT) collections in the digital asset industry. Their main service allows users to quickly create and mint their own NFT collections, with a feature for minting various color editions following an original genesis edition. The platform caters to individuals and creators interested in the NFT marketplace. It is based in Singapore, Singapore.\", metadata={'title': 'OpenSea CEO, Founder, Key Executive Team, Board of Directors & Employees', 'source': 'https://www.cbinsights.com/company/opensea/people', 'source_type': 'web_search', 'chunk_index': 0}), Document(page_content=\"Magic Eden operates as an online marketplace for non-fungible tokens (NFTs). It enables users to create and sell their NFTs on the blockchain network. It aims to be the platform for discovering, trading, and creating NFTs. The company was founded in 2021 and is based in San Francisco, California.\\nStarly provides a launchpad and marketplace for users' gamified non-fungible tokens (NFT) collections. It allows anyone to create Top Shot style NFT packs of their own content end-to-end. The company was founded in 2021 and is based in Central Singapore, Singapore.\\nExclusible operates as a gaming and immersive technology studio focusing on revolutionizing brand engagement. The company offers strategic solutions to integrate global brands into gaming communities, leveraging platforms like Roblox, Fortnite, and Minecraft to craft immersive experiences to resonate with younger audiences. It was founded in 2021 and is based in Cascais, Portugal.\\nMakersPlace operates a marketplace offering digital arts. It allows content creators to auction their creations such as photography, 3D art, illustration, animation, and more. The company was founded in 2018 and is based in San Francisco, California.\\nRarible focuses on the non-fungible token (NFT) sector, providing a marketplace for digital goods. It offer a platform for the discovery, purchase, and sale of NFTs, catering to brands, communities, and individual creators. The company primarily serves sectors that require blockchain technology for digital asset transactions. It was founded in 2020 and is based in Wilmington, Delaware.\\nLoading...\\nAbout\\nHow We Help\\nWhat We Offer\\nPopular Research\\nCopyright 2024 CB Information Services, Inc. All rights reserved.\", metadata={'title': 'OpenSea CEO, Founder, Key Executive Team, Board of Directors & Employees', 'source': 'https://www.cbinsights.com/company/opensea/people', 'source_type': 'web_search', 'chunk_index': 1}), Document(page_content='Loading...\\nAbout\\nHow We Help\\nWhat We Offer\\nPopular Research\\nCopyright 2024 CB Information Services, Inc. All rights reserved.\\nCBI websites generally use certain cookies to enable better interactions with our sites and services. Use of these cookies, which may be stored on your device, permits us to improve and customize your experience. You can read more about your cookie choices at our privacy policy\\xa0here. By continuing to use this site you are consenting to these choices.', metadata={'title': 'OpenSea CEO, Founder, Key Executive Team, Board of Directors & Employees', 'source': 'https://www.cbinsights.com/company/opensea/people', 'source_type': 'web_search', 'chunk_index': 2})]\n",
      "\n",
      "INFO:httpx:HTTP Request: POST https://api.openai.com/v1/embeddings \"HTTP/1.1 200 OK\"\n",
      "INFO:sf_researcher.context.pinecone_utils:\n",
      "🧩 Indexing result: {'num_added': 8, 'num_updated': 0, 'num_skipped': 0, 'num_deleted': 0}\n",
      "\n"
     ]
    },
    {
     "name": "stdout",
     "output_type": "stream",
     "text": [
      "{'num_added': 8, 'num_updated': 0, 'num_skipped': 0, 'num_deleted': 0}\n"
     ]
    }
   ],
   "source": [
    "await researcher.main_task_assistant.conduct_research_insert()"
   ]
  },
  {
   "cell_type": "code",
   "execution_count": 6,
   "metadata": {},
   "outputs": [
    {
     "name": "stderr",
     "output_type": "stream",
     "text": [
      "INFO:httpx:HTTP Request: POST https://api.openai.com/v1/embeddings \"HTTP/1.1 200 OK\"\n",
      "INFO:sf_researcher.master.agent:\n",
      "🧩 agent.py conduct_research_query query: OpenSea directors:\n",
      "\n"
     ]
    },
    {
     "name": "stdout",
     "output_type": "stream",
     "text": [
      "🌐 Document source: https://www.cbinsights.com/company/opensea/people\n",
      "📑 Document content: Wells Fargo Success Story\n",
      "Learn More →\n",
      "Professional Services\n",
      "Learn More →\n",
      "Platform Overview\n",
      "Learn More →\n",
      "Loading...\n",
      "OpenSea\n",
      "Executives\n",
      "OpenSea Management Team\n",
      "5 Team Members\n",
      "OpenSea has 5 executives. OpenSea's\n",
      "current Founder, Chief Executive Officer is Devin\n",
      "Finzer.\n",
      "Name\n",
      "Work History\n",
      "Title\n",
      "Status\n",
      "Devin\n",
      "Finzer\n",
      "Credit Karma, Pinterest, Flipboard, Google, and Wikimedia Foundation\n",
      "Founder, Chief Executive Officer\n",
      "Current\n",
      "Subscribe to see more\n",
      "Subscribe to see more\n",
      "Subscribe to see more\n",
      "Subscribe to see more\n",
      "Subscribe to see more\n",
      "Subscribe to see more\n",
      "Subscribe to see more\n",
      "Subscribe to see more\n",
      "Subscribe to see more\n",
      "Subscribe to see more\n",
      "Subscribe to see more\n",
      "Subscribe to see more\n",
      "Subscribe to see more\n",
      "Subscribe to see more\n",
      "Subscribe to see more\n",
      "Subscribe to see more\n",
      "Name\n",
      "Devin\n",
      "Finzer\n",
      "Subscribe to see more\n",
      "Subscribe to see more\n",
      "Subscribe to see more\n",
      "Subscribe to see more\n",
      "Work History\n",
      "Credit Karma, Pinterest, Flipboard, Google, and Wikimedia Foundation\n",
      "Subscribe to see more\n",
      "Subscribe to see more\n",
      "Subscribe to see more\n",
      "Subscribe to see more\n",
      "Title\n",
      "Founder, Chief Executive Officer\n",
      "Subscribe to see more\n",
      "Subscribe to see more\n",
      "Subscribe to see more\n",
      "Subscribe to see more\n",
      "Status\n",
      "Current\n",
      "Subscribe to see more\n",
      "Subscribe to see more\n",
      "Subscribe to see more\n",
      "Subscribe to see more\n",
      "Compare OpenSea to Competitors\n",
      "Dixel Club is a company focused on providing a platform for launching non-fungible token (NFT) collections in the digital asset industry. Their main service allows users to quickly create and mint their own NFT collections, with a feature for minting various color editions following an original genesis edition. The platform caters to individuals and creators interested in the NFT marketplace. It is based in Singapore, Singapore.\n",
      "\n",
      "🌐 Document source: https://opensea.io/blog/articles/welcoming-chris-dixon-to-our-board-of-directors\n",
      "📑 Document content: Announcements\n",
      "Welcoming Chris Dixon to our Board of Directorsï¿¼\n",
      "Announcements\n",
      "Welcoming Chris Dixon to our Board of Directorsï¿¼\n",
      "Iâm excited to formally welcome Chris Dixon to the OpenSea Board of Directors. Chris has been extremely influential in shaping my views on web3. I followed his writing closely when I first fell down the âcrypto rabbithole,â and met him in 2021 when a16z first expressed interest in investing in OpenSea. Since then, weâve spent a ton of time together and he has served as a consistent thought partner and advisor to us.\n",
      "Anyone who has spent time with Chris knows he is a principled, rigorous, and intellectually honest thinker, and he consistently pushes us to zoom out and make sure weâre solving for the long term arc of the NFT space. Because Chris doesnât join many boards, he can go extremely deep into the weeds, build continuous context on the business, and provide strategic and relevant recommendations. Itâs been great transitioning him to the Board, because itâs allowed us to spend more regular time together going deep into our product roadmap and business strategy.\n",
      "Chris is taking over the a16z board seat from Katie Haun as part of her departure from a16z to start Haun Ventures. Katie has been another invaluable source of wisdom for OpenSea over the years. And thanks to her long standing relationship with Chris, she was able to execute a smooth handoff and remains close to us in her capacity as an investor through Haun Ventures.\n",
      "Weâre grateful for all that Katieâs done for OpenSea over the years, and couldnât be more excited to build for the future of the NFT ecosystem with Chris on our Board, and Katie by our side.\n",
      "Related articles\n",
      "\n",
      "🌐 Document source: https://en.wikipedia.org/wiki/OpenSea\n",
      "📑 Document content: Contents\n",
      "OpenSea\n",
      "OpenSea is an American non-fungible token (NFT) marketplace headquartered in New York City. The company was founded by Devin Finzer and Alex Atallah in 2017.[2][3]\n",
      "OpenSea offers a marketplace online allowing for non-fungible tokens to be sold directly at a fixed price, or through an auction.\n",
      "History[edit]\n",
      "Devin Finzer and Alex Atallah founded OpenSea in December 2017.[4] They were inspired by CryptoKitties, a blockchain-based game featuring non-fungible tokens that had been released earlier that year.[4] Finzer and Atallah believed that OpenSea could be a marketplace for buying NFT tokens like those.[4] Y Combinator accepted OpenSea into its accelerator program in 2018,[4] and in an announcement described the startup as a \"peer-to-peer marketplace for cryptogoods\".[5]\n",
      "After finishing the pre-seed round by Y Combinator, OpenSea raised $2.1 million in venture capital in November 2019.[6]\n",
      "In March 2020, the platform had 4,000 active users completing $1.1 million in transactions a month.[7] By July 2021, users were completing $350 million in transactions a month,[7] and the company was valued at $1.5 billion—meaning unicorn status—after a $100 million Series B venture round led by Andreessen Horowitz.[8] In August 2021, the value of monthly transactions spiked to $3.4 billion, and in November OpenSea had 1.8 million active users.[7]\n",
      "On September 14 of that same year, Nate Chastain, the then-head of product at OpenSea, was accused of insider trading after it was revealed that he bought NFTs shortly before they were showcased on OpenSea's front page, subsequently selling them at higher values.[9][10] The next day OpenSea acknowledged the accusations and launched an internal review.[9] On September 16, OpenSea announced that Chastain had resigned.[11] In May 2023, Chastain was convicted of wire fraud and money laundering in federal court and later sentenced to three months in prison.[12]\n",
      "\n",
      "🌐 Document source: https://docs.opensea.io/reference/api-overview\n",
      "📑 Document content: OpenSea API\n",
      "OpenSea Stream API\n",
      "Other\n",
      "OpenSea API\n",
      "OpenSea Stream API\n",
      "Other\n",
      "Overview\n",
      "The OpenSea API helps developers build new experiences using NFTs and our marketplace data. We provide a set of endpoints that enable you to fetch ERC721 and ERC1155 token metadata as well as other core elements of our marketplace, including events, collection, listings, offers, and more. We offer these endpoints because we believe in composability in web3 and want to extend access to this data to anyone that wishes to build on top of it. However, if you use this data we require that you join us in our mission of building a composable and decentralized web3 ecosystem by reciprocating and offering us equivalent levels of access to your data through an API and complying with our Terms of Service.\n",
      "Additionally, we provide this API free of charge and ask that you provide attribution to OpenSea on your site or in your app. When using our API, you should link to the OpenSea marketplace from the NFTs that you display, where appropriate. Please see our Logos & Brand Guidelines for images that you can use for OpenSea attribution.\n",
      "Our API is rate-limited - if you’d like to use it in a production environment, please request an API key.\n",
      "API FAQs\n",
      "How can I obtain an API Key?\n",
      "Please follow the instructions here.\n",
      "Does OpenSea have an SDK?\n",
      "Yes. Our SDK can be found here.\n",
      "Can I contact OpenSea about the API?\n",
      "Yes. You can reach out to our developers channel on Discord or email us at [email protected].\n",
      "\n"
     ]
    },
    {
     "name": "stderr",
     "output_type": "stream",
     "text": [
      "INFO:sf_researcher.master.agent:\n",
      "🧩 Aggregated self.context: [\"Wells Fargo Success Story\\nLearn More →\\nProfessional Services\\nLearn More →\\nPlatform Overview\\nLearn More →\\nLoading...\\nOpenSea\\nExecutives\\nOpenSea Management Team\\n5 Team Members\\nOpenSea has 5 executives. OpenSea's\\ncurrent Founder, Chief Executive Officer is Devin\\nFinzer.\\nName\\nWork History\\nTitle\\nStatus\\nDevin\\nFinzer\\nCredit Karma, Pinterest, Flipboard, Google, and Wikimedia Foundation\\nFounder, Chief Executive Officer\\nCurrent\\nSubscribe to see more\\nSubscribe to see more\\nSubscribe to see more\\nSubscribe to see more\\nSubscribe to see more\\nSubscribe to see more\\nSubscribe to see more\\nSubscribe to see more\\nSubscribe to see more\\nSubscribe to see more\\nSubscribe to see more\\nSubscribe to see more\\nSubscribe to see more\\nSubscribe to see more\\nSubscribe to see more\\nSubscribe to see more\\nName\\nDevin\\nFinzer\\nSubscribe to see more\\nSubscribe to see more\\nSubscribe to see more\\nSubscribe to see more\\nWork History\\nCredit Karma, Pinterest, Flipboard, Google, and Wikimedia Foundation\\nSubscribe to see more\\nSubscribe to see more\\nSubscribe to see more\\nSubscribe to see more\\nTitle\\nFounder, Chief Executive Officer\\nSubscribe to see more\\nSubscribe to see more\\nSubscribe to see more\\nSubscribe to see more\\nStatus\\nCurrent\\nSubscribe to see more\\nSubscribe to see more\\nSubscribe to see more\\nSubscribe to see more\\nCompare OpenSea to Competitors\\nDixel Club is a company focused on providing a platform for launching non-fungible token (NFT) collections in the digital asset industry. Their main service allows users to quickly create and mint their own NFT collections, with a feature for minting various color editions following an original genesis edition. The platform caters to individuals and creators interested in the NFT marketplace. It is based in Singapore, Singapore.\", 'Announcements\\nWelcoming Chris Dixon to our Board of Directorsï¿¼\\nAnnouncements\\nWelcoming Chris Dixon to our Board of Directorsï¿¼\\nIâ\\x80\\x99m excited to formally welcome Chris Dixon to the OpenSea Board of Directors. Chris has been extremely influential in shaping my views on web3. I followed his writing closely when I first fell down the â\\x80\\x9ccrypto rabbithole,â\\x80\\x9d and met him in 2021 when a16z first expressed interest in investing in OpenSea. Since then, weâ\\x80\\x99ve spent a ton of time together and he has served as a consistent thought partner and advisor to us.\\nAnyone who has spent time with Chris knows he is a principled, rigorous, and intellectually honest thinker, and he consistently pushes us to zoom out and make sure weâ\\x80\\x99re solving for the long term arc of the NFT space. Because Chris doesnâ\\x80\\x99t join many boards, he can go extremely deep into the weeds, build continuous context on the business, and provide strategic and relevant recommendations. Itâ\\x80\\x99s been great transitioning him to the Board, because itâ\\x80\\x99s allowed us to spend more regular time together going deep into our product roadmap and business strategy.\\nChris is taking over the a16z board seat from Katie Haun as part of her departure from a16z to start Haun Ventures. Katie has been another invaluable source of wisdom for OpenSea over the years. And thanks to her long standing relationship with Chris, she was able to execute a smooth handoff and remains close to us in her capacity as an investor through Haun Ventures.\\nWeâ\\x80\\x99re grateful for all that Katieâ\\x80\\x99s done for OpenSea over the years, and couldnâ\\x80\\x99t be more excited to build for the future of the NFT ecosystem with Chris on our Board, and Katie by our side.\\nRelated articles', 'Contents\\nOpenSea\\nOpenSea is an American non-fungible token (NFT) marketplace headquartered in New York City. The company was founded by Devin Finzer and Alex Atallah in 2017.[2][3]\\nOpenSea offers a marketplace online allowing for non-fungible tokens to be sold directly at a fixed price, or through an auction.\\nHistory[edit]\\nDevin Finzer and Alex Atallah founded OpenSea in December 2017.[4] They were inspired by CryptoKitties, a blockchain-based game featuring non-fungible tokens that had been released earlier that year.[4] Finzer and Atallah believed that OpenSea could be a marketplace for buying NFT tokens like those.[4] Y Combinator accepted OpenSea into its accelerator program in 2018,[4] and in an announcement described the startup as a \"peer-to-peer marketplace for cryptogoods\".[5]\\nAfter finishing the pre-seed round by Y Combinator, OpenSea raised $2.1 million in venture capital in November 2019.[6]\\nIn March 2020, the platform had 4,000 active users completing $1.1 million in transactions a month.[7] By July 2021, users were completing $350 million in transactions a month,[7] and the company was valued at $1.5 billion—meaning unicorn status—after a $100 million Series B venture round led by Andreessen Horowitz.[8] In August 2021, the value of monthly transactions spiked to $3.4 billion, and in November OpenSea had 1.8 million active users.[7]\\nOn September 14 of that same year, Nate Chastain, the then-head of product at OpenSea, was accused of insider trading after it was revealed that he bought NFTs shortly before they were showcased on OpenSea\\'s front page, subsequently selling them at higher values.[9][10] The next day OpenSea acknowledged the accusations and launched an internal review.[9] On September 16, OpenSea announced that Chastain had resigned.[11] In May 2023, Chastain was convicted of wire fraud and money laundering in federal court and later sentenced to three months in prison.[12]', 'OpenSea API\\nOpenSea Stream API\\nOther\\nOpenSea API\\nOpenSea Stream API\\nOther\\nOverview\\nThe OpenSea API helps developers build new experiences using NFTs and our marketplace data. We provide a set of endpoints that enable you to fetch ERC721 and ERC1155 token metadata as well as other core elements of our marketplace, including events, collection, listings, offers, and more. We offer these endpoints because we believe in composability in web3 and want to extend access to this data to anyone that wishes to build on top of it. However, if you use this data we require that you join us in our mission of building a composable and decentralized web3 ecosystem by reciprocating and offering us equivalent levels of access to your data through an API and complying with our Terms of Service.\\nAdditionally, we provide this API free of charge and ask that you provide attribution to OpenSea on your site or in your app. When using our API, you should link to the OpenSea marketplace from the NFTs that you display, where appropriate. Please see our Logos & Brand Guidelines for images that you can use for OpenSea attribution.\\nOur API is rate-limited - if you’d like to use it in a production environment, please request an API key.\\nAPI FAQs\\nHow can I obtain an API Key?\\nPlease follow the instructions here.\\nDoes OpenSea have an SDK?\\nYes. Our SDK can be found here.\\nCan I contact OpenSea about the API?\\nYes. You can reach out to our developers channel on Discord or email us at [email\\xa0protected].']\n",
      "\n"
     ]
    }
   ],
   "source": [
    "await researcher.main_task_assistant.conduct_research_query(researcher.parent_retreiver_queries)"
   ]
  },
  {
   "cell_type": "code",
   "execution_count": 7,
   "metadata": {},
   "outputs": [],
   "source": [
    "# Update context of the global context variable\n",
    "researcher.global_context = researcher.main_task_assistant.context\n",
    "# Update url list of the global list variable\n",
    "researcher.global_urls = researcher.main_task_assistant.visited_urls"
   ]
  },
  {
   "cell_type": "code",
   "execution_count": 8,
   "metadata": {},
   "outputs": [
    {
     "name": "stderr",
     "output_type": "stream",
     "text": [
      "INFO:__main__:\n",
      "🕵️‍♂️ Constructing contacts\n",
      "\n"
     ]
    },
    {
     "name": "stdout",
     "output_type": "stream",
     "text": [
      "\n",
      "🤖 llm.py construct_contacts Calling gpt-3.5-turbo...\n",
      "\n"
     ]
    },
    {
     "name": "stderr",
     "output_type": "stream",
     "text": [
      "INFO:httpx:HTTP Request: POST https://api.openai.com/v1/chat/completions \"HTTP/1.1 200 OK\"\n",
      "INFO:__main__:\n",
      "🕵️‍♂️ Contact Search List: contacts=[Contact(first_name='Chris', last_name='Dixon'), Contact(first_name='Katie', last_name='Haun')]\n",
      "\n"
     ]
    }
   ],
   "source": [
    "# Get list of all subtopics\n",
    "if not researcher.contacts:\n",
    "    logger.info(f\"\\n🕵️‍♂️ Constructing contacts\\n\")\n",
    "    researcher.contacts = await construct_contacts(\n",
    "        company_name=researcher.query,\n",
    "        data=researcher.main_task_assistant.context,\n",
    "        config=researcher.main_task_assistant.cfg,\n",
    "    )\n",
    "else:\n",
    "    logger.info(\"\\n🕵️‍♂️ Using the provided contacts list\\n\")\n",
    "\n",
    "logger.info(f\"\\n🕵️‍♂️ Contact Search List: {researcher.contacts}\\n\")"
   ]
  }
 ],
 "metadata": {
  "kernelspec": {
   "display_name": ".venv",
   "language": "python",
   "name": "python3"
  },
  "language_info": {
   "codemirror_mode": {
    "name": "ipython",
    "version": 3
   },
   "file_extension": ".py",
   "mimetype": "text/x-python",
   "name": "python",
   "nbconvert_exporter": "python",
   "pygments_lexer": "ipython3",
   "version": "3.11.3"
  }
 },
 "nbformat": 4,
 "nbformat_minor": 2
}
