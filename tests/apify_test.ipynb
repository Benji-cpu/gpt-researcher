{
 "cells": [
  {
   "cell_type": "code",
   "execution_count": 1,
   "metadata": {},
   "outputs": [],
   "source": [
    "import os\n",
    "from apify_client import ApifyClient"
   ]
  },
  {
   "cell_type": "code",
   "execution_count": 2,
   "metadata": {},
   "outputs": [],
   "source": [
    "apify_client = ApifyClient(os.getenv('APIFY_API_KEY'))"
   ]
  },
  {
   "cell_type": "code",
   "execution_count": 4,
   "metadata": {},
   "outputs": [],
   "source": [
    "def create_scraping_task(apify_client, actor_id, url):\n",
    "    # Define the input for the actor\n",
    "    run_input = {\n",
    "        'startUrls': [{'url': url}],\n",
    "        'maxCrawlingDepth': 0,\n",
    "        'maxPagesPerCrawl': 1,\n",
    "        'proxyConfiguration': {'useApifyProxy': True},\n",
    "    }\n",
    "\n",
    "    # Run the actor and wait for the result\n",
    "    run = apify_client.actor(actor_id).call(run_input=run_input)\n",
    "    \n",
    "    return run['defaultDatasetId']"
   ]
  },
  {
   "cell_type": "code",
   "execution_count": 15,
   "metadata": {},
   "outputs": [],
   "source": [
    "def fetch_results(client, dataset_id):\n",
    "    # Fetch the results from the dataset\n",
    "    dataset_items = client.dataset(dataset_id).list_items().items\n",
    "    \n",
    "    # Extract raw text content\n",
    "    if dataset_items:\n",
    "        raw_data = dataset_items[0].get('text', '')\n",
    "        return raw_data\n",
    "    else:\n",
    "        return ''"
   ]
  },
  {
   "cell_type": "code",
   "execution_count": 6,
   "metadata": {},
   "outputs": [],
   "source": [
    "# Define the actor ID for a web scraper, e.g., \"apify/web-scraper\"\n",
    "actor_id = 'apify/website-content-crawler'"
   ]
  },
  {
   "cell_type": "code",
   "execution_count": 7,
   "metadata": {},
   "outputs": [],
   "source": [
    "url_to_scrape = \"https://www.datanyze.com/companies/opensea/452495898\""
   ]
  },
  {
   "cell_type": "code",
   "execution_count": 8,
   "metadata": {},
   "outputs": [],
   "source": [
    "# Create and run the scraping task\n",
    "dataset_id = create_scraping_task(apify_client, actor_id, url_to_scrape)"
   ]
  },
  {
   "cell_type": "code",
   "execution_count": 11,
   "metadata": {},
   "outputs": [
    {
     "name": "stdout",
     "output_type": "stream",
     "text": [
      "ehKYfuX0kogqyJRBR\n"
     ]
    }
   ],
   "source": [
    "print(dataset_id)"
   ]
  },
  {
   "cell_type": "code",
   "execution_count": 16,
   "metadata": {},
   "outputs": [
    {
     "name": "stdout",
     "output_type": "stream",
     "text": [
      "OpenSea Company Profile | Management and Employees List\n",
      "OpenSea Profile and History\n",
      "OpenSea was founded in 2017 and is the first peer-to-peer marketplace for blockchain-based assets, which include collectibles, gaming items, digital art, domain names, event tickets, and physical assets backed by a blockchain. OpenSea is headquartered in New York, United States. \n",
      "Popular Searches\n",
      "OpenSea Inc\n",
      "Opensea\n",
      "Open Earth Foundation\n",
      "OpenSea.pro\n",
      "OpenSea.pro Inc\n",
      "Primary Industries\n",
      "Contact Information\n",
      "Headquarters\n",
      "Revenue \n",
      "$42 M\n",
      "Employees \n",
      "200\n",
      "Founded \n",
      "2017\n",
      "Funding History\n",
      "OpenSea raised a total of $425 M in funding over 4 rounds.\n",
      "OpenSea Executive Team & Key Decision Makers\n",
      "Recently Updated Team Members\n",
      "Name & TitleSocialContact Info\n",
      "Stephen Chen\n",
      "Revenue Accounting and Financial Operations\n",
      "\t\t\n",
      "Email\n",
      "Phone\n",
      "\t\n",
      "Reveal for Free\n",
      "\t\n",
      "Janindu Dharmadasa\n",
      "Small Business Owner\n",
      "\t\t\n",
      "Email\n",
      "Phone\n",
      "\t\n",
      "Reveal for Free\n",
      "\t\n",
      "John Towell\n",
      "Staff Software Engineer\n",
      "\t\t\n",
      "Email\n",
      "Phone\n",
      "\t\n",
      "Reveal for Free\n",
      "\t\n",
      "Ali Janela\n",
      "Senior Manager, Operations\n",
      "\t\t\n",
      "Email\n",
      "Phone\n",
      "\t\n",
      "Reveal for Free\n",
      "\t\n",
      "Jeff Peroutka\n",
      "Search Engine Optimization Consultant\n",
      "\t\t\n",
      "Email\n",
      "Phone\n",
      "\t\n",
      "Reveal for Free\n",
      "\t\n",
      "Michael Cohen\n",
      "Senior Software Engineer\n",
      "\t\t\n",
      "Email\n",
      "Phone\n",
      "\t\n",
      "Reveal for Free\n",
      "\t\n",
      "Oliver Maroney\n",
      "Gaming Partnerships\n",
      "\t\t\n",
      "Email\n",
      "Phone\n",
      "\t\n",
      "Reveal for Free\n",
      "\t\n",
      "Seyithan Dincer\n",
      "NFT Artist\n",
      "\t\t\n",
      "Email\n",
      "Phone\n",
      "\t\n",
      "Reveal for Free\n",
      "\t\n",
      "Christopher Terech\n",
      "Senior Software Engineer\n",
      "\t\t\n",
      "Email\n",
      "Phone\n",
      "\t\n",
      "Reveal for Free\n",
      "\t\n",
      "Hannah Vanek\n",
      "Manager, Web Editorial\n",
      "\t\t\n",
      "Email\n",
      "Phone\n",
      "\t\n",
      "Reveal for Free\n",
      "\t\n",
      "Omer Farbman\n",
      "Manager, Organizational Development\n",
      "\t\t\n",
      "Email\n",
      "Phone\n",
      "\t\n",
      "Reveal for Free\n",
      "\t\n",
      "Will Brooke\n",
      "Business Development, Web3 and Creators\n",
      "\t\t\n",
      "Email\n",
      "Phone\n",
      "\t\n",
      "Reveal for Free\n",
      "\t\n",
      "Jeremy Fine\n",
      "Business & Corporate Development Head\n",
      "\t\t\n",
      "Email\n",
      "Phone\n",
      "\t\n",
      "Reveal for Free\n",
      "\t\n",
      "Top OpenSea Integrations and Technologies\n",
      "Here's a list of some of the top trending technologies and APIs used by OpenSea.\n",
      "Programming Languages\n",
      "(8 Technologies)\n",
      "Corporate Learning Management Systems\n",
      "(4 Technologies)\n",
      "Frameworks and Libraries\n",
      "(3 Technologies)\n",
      "Other Security Software\n",
      "(2 Technologies)\n",
      "Applicant Tracking Systems\n",
      "(2 Technologies)\n",
      "OpenSea Email Formats\n",
      "ParameterSample EmailPercentage\n",
      "1\tfirst.last\tJohn.Smith@opensea.io\t\t\n",
      "2\tfirst initials + last\tJSmith@opensea.io\t\t\n",
      "3\tfirst\tJohn@opensea.io\t\t\n",
      "4\tfirst + last\tJohnSmith@opensea.io\t\t\n",
      "5\tfirst_last\tJohn_Smith@opensea.io\t\t\n",
      "6\tlast\tSmith@opensea.io\t\t\n",
      "OpenSea Top Competitors\n",
      "CompanyEmployeesRevenueTop technologies\n",
      "Decentraland\n",
      "\t97\t$20.4 M\t\t\n",
      "Chiliz\n",
      "\t411\t$17.1 M\t\t\n",
      "Uphold HQ Inc\n",
      "\t244\t$38 M\t\t\n",
      "Sessia LLC\n",
      "\t61\t$4.5 M\t\t\n",
      "Globitex Inc\n",
      "\t32\t$6.8 M\t\t\n",
      "OpenSea has 200 employees\n",
      "OpenSea headquarters are located in 105 E 24th St Apmt 4D, New York City, New York, 10010, United States \n",
      "OpenSea’s main industries are: Financial Software, Software\n",
      "OpenSea’s CEO is S.M.Fahim Sabri \n",
      "OpenSea appears in search results as OpenSea Inc, Opensea, Open Earth Foundation\n",
      "OpenSea.pro, OpenSea.pro Inc\n",
      "...See More\n"
     ]
    }
   ],
   "source": [
    "# Fetch the raw HTML results\n",
    "raw_data = fetch_results(apify_client, dataset_id)\n",
    "print(raw_data)"
   ]
  },
  {
   "cell_type": "code",
   "execution_count": 17,
   "metadata": {},
   "outputs": [
    {
     "name": "stdout",
     "output_type": "stream",
     "text": [
      "{\n",
      "    \"url\": \"https://www.datanyze.com/companies/opensea/452495898\",\n",
      "    \"raw_data\": \"OpenSea Company Profile | Management and Employees List\\nOpenSea Profile and History\\nOpenSea was founded in 2017 and is the first peer-to-peer marketplace for blockchain-based assets, which include collectibles, gaming items, digital art, domain names, event tickets, and physical assets backed by a blockchain. OpenSea is headquartered in New York, United States. \\nPopular Searches\\nOpenSea Inc\\nOpensea\\nOpen Earth Foundation\\nOpenSea.pro\\nOpenSea.pro Inc\\nPrimary Industries\\nContact Information\\nHeadquarters\\nRevenue \\n$42 M\\nEmployees \\n200\\nFounded \\n2017\\nFunding History\\nOpenSea raised a total of $425 M in funding over 4 rounds.\\nOpenSea Executive Team & Key Decision Makers\\nRecently Updated Team Members\\nName & TitleSocialContact Info\\nStephen Chen\\nRevenue Accounting and Financial Operations\\n\\t\\t\\nEmail\\nPhone\\n\\t\\nReveal for Free\\n\\t\\nJanindu Dharmadasa\\nSmall Business Owner\\n\\t\\t\\nEmail\\nPhone\\n\\t\\nReveal for Free\\n\\t\\nJohn Towell\\nStaff Software Engineer\\n\\t\\t\\nEmail\\nPhone\\n\\t\\nReveal for Free\\n\\t\\nAli Janela\\nSenior Manager, Operations\\n\\t\\t\\nEmail\\nPhone\\n\\t\\nReveal for Free\\n\\t\\nJeff Peroutka\\nSearch Engine Optimization Consultant\\n\\t\\t\\nEmail\\nPhone\\n\\t\\nReveal for Free\\n\\t\\nMichael Cohen\\nSenior Software Engineer\\n\\t\\t\\nEmail\\nPhone\\n\\t\\nReveal for Free\\n\\t\\nOliver Maroney\\nGaming Partnerships\\n\\t\\t\\nEmail\\nPhone\\n\\t\\nReveal for Free\\n\\t\\nSeyithan Dincer\\nNFT Artist\\n\\t\\t\\nEmail\\nPhone\\n\\t\\nReveal for Free\\n\\t\\nChristopher Terech\\nSenior Software Engineer\\n\\t\\t\\nEmail\\nPhone\\n\\t\\nReveal for Free\\n\\t\\nHannah Vanek\\nManager, Web Editorial\\n\\t\\t\\nEmail\\nPhone\\n\\t\\nReveal for Free\\n\\t\\nOmer Farbman\\nManager, Organizational Development\\n\\t\\t\\nEmail\\nPhone\\n\\t\\nReveal for Free\\n\\t\\nWill Brooke\\nBusiness Development, Web3 and Creators\\n\\t\\t\\nEmail\\nPhone\\n\\t\\nReveal for Free\\n\\t\\nJeremy Fine\\nBusiness & Corporate Development Head\\n\\t\\t\\nEmail\\nPhone\\n\\t\\nReveal for Free\\n\\t\\nTop OpenSea Integrations and Technologies\\nHere's a list of some of the top trending technologies and APIs used by OpenSea.\\nProgramming Languages\\n(8 Technologies)\\nCorporate Learning Management Systems\\n(4 Technologies)\\nFrameworks and Libraries\\n(3 Technologies)\\nOther Security Software\\n(2 Technologies)\\nApplicant Tracking Systems\\n(2 Technologies)\\nOpenSea Email Formats\\nParameterSample EmailPercentage\\n1\\tfirst.last\\tJohn.Smith@opensea.io\\t\\t\\n2\\tfirst initials + last\\tJSmith@opensea.io\\t\\t\\n3\\tfirst\\tJohn@opensea.io\\t\\t\\n4\\tfirst + last\\tJohnSmith@opensea.io\\t\\t\\n5\\tfirst_last\\tJohn_Smith@opensea.io\\t\\t\\n6\\tlast\\tSmith@opensea.io\\t\\t\\nOpenSea Top Competitors\\nCompanyEmployeesRevenueTop technologies\\nDecentraland\\n\\t97\\t$20.4 M\\t\\t\\nChiliz\\n\\t411\\t$17.1 M\\t\\t\\nUphold HQ Inc\\n\\t244\\t$38 M\\t\\t\\nSessia LLC\\n\\t61\\t$4.5 M\\t\\t\\nGlobitex Inc\\n\\t32\\t$6.8 M\\t\\t\\nOpenSea has 200 employees\\nOpenSea headquarters are located in 105 E 24th St Apmt 4D, New York City, New York, 10010, United States \\nOpenSea\\u2019s main industries are: Financial Software, Software\\nOpenSea\\u2019s CEO is S.M.Fahim Sabri \\nOpenSea appears in search results as OpenSea Inc, Opensea, Open Earth Foundation\\nOpenSea.pro, OpenSea.pro Inc\\n...See More\"\n",
      "}\n"
     ]
    }
   ],
   "source": [
    "# Parse the results into a dictionary\n",
    "parsed_results = {\n",
    "    \"url\": url_to_scrape,\n",
    "    \"raw_data\": raw_data\n",
    "}\n",
    "\n",
    "# Display the results\n",
    "import json\n",
    "print(json.dumps(parsed_results, indent=4))"
   ]
  }
 ],
 "metadata": {
  "kernelspec": {
   "display_name": ".venv",
   "language": "python",
   "name": "python3"
  },
  "language_info": {
   "codemirror_mode": {
    "name": "ipython",
    "version": 3
   },
   "file_extension": ".py",
   "mimetype": "text/x-python",
   "name": "python",
   "nbconvert_exporter": "python",
   "pygments_lexer": "ipython3",
   "version": "3.11.3"
  }
 },
 "nbformat": 4,
 "nbformat_minor": 2
}
