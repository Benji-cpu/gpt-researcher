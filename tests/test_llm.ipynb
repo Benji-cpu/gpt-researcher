{
 "cells": [
  {
   "cell_type": "code",
   "execution_count": 1,
   "metadata": {},
   "outputs": [],
   "source": [
    "# Config class definition\n",
    "\n",
    "import json\n",
    "import os"
   ]
  },
  {
   "cell_type": "code",
   "execution_count": 2,
   "metadata": {},
   "outputs": [],
   "source": [
    "class Config:\n",
    "    \"\"\"Config class for GPT Researcher.\"\"\"\n",
    "\n",
    "    def __init__(self, config_file: str = None):\n",
    "        \"\"\"Initialize the config class.\"\"\"\n",
    "        self.config_file = config_file if config_file else os.getenv('CONFIG_FILE')\n",
    "        self.retriever = os.getenv('SEARCH_RETRIEVER', \"tavily\")\n",
    "        self.embedding_provider = os.getenv('EMBEDDING_PROVIDER', 'openai')\n",
    "        self.llm_provider = os.getenv('LLM_PROVIDER', \"openai\")\n",
    "        self.fast_llm_model = os.getenv('FAST_LLM_MODEL', \"gpt-3.5-turbo\")\n",
    "        self.smart_llm_model = os.getenv('SMART_LLM_MODEL', \"gpt-4o\")\n",
    "        self.fast_token_limit = int(os.getenv('FAST_TOKEN_LIMIT', 2000))\n",
    "        self.smart_token_limit = int(os.getenv('SMART_TOKEN_LIMIT', 4000))\n",
    "        self.browse_chunk_max_length = int(os.getenv('BROWSE_CHUNK_MAX_LENGTH', 8192))\n",
    "        self.summary_token_limit = int(os.getenv('SUMMARY_TOKEN_LIMIT', 700))\n",
    "        self.temperature = float(os.getenv('TEMPERATURE', 0.55))\n",
    "        self.user_agent = os.getenv('USER_AGENT', \"Mozilla/5.0 (Windows NT 10.0; Win64; x64) AppleWebKit/537.36 \"\n",
    "                                                 \"(KHTML, like Gecko) Chrome/119.0.0.0 Safari/537.36 Edg/119.0.0.0\")\n",
    "        self.max_search_results_per_query = int(os.getenv('MAX_SEARCH_RESULTS_PER_QUERY', 5))\n",
    "        self.memory_backend = os.getenv('MEMORY_BACKEND', \"local\")\n",
    "        self.total_words = int(os.getenv('TOTAL_WORDS', 1000))\n",
    "        self.report_format = os.getenv('REPORT_FORMAT', \"APA\")\n",
    "        self.max_iterations = int(os.getenv('MAX_ITERATIONS', 3))\n",
    "        self.agent_role = os.getenv('AGENT_ROLE', None)\n",
    "        self.scraper = os.getenv(\"SCRAPER\", \"bs\")\n",
    "        self.max_subtopics = os.getenv(\"MAX_SUBTOPICS\", 3)\n",
    "        self.load_config_file()\n",
    "\n",
    "    def load_config_file(self) -> None:\n",
    "        \"\"\"Load the config file.\"\"\"\n",
    "        if self.config_file is None:\n",
    "            return None\n",
    "        with open(self.config_file, \"r\") as f:\n",
    "            config = json.load(f)\n",
    "        for key, value in config.items():\n",
    "            self.__dict__[key] = value\n"
   ]
  },
  {
   "cell_type": "code",
   "execution_count": 3,
   "metadata": {},
   "outputs": [],
   "source": [
    "# Create Config object\n",
    "config = Config()"
   ]
  },
  {
   "cell_type": "code",
   "execution_count": 4,
   "metadata": {},
   "outputs": [],
   "source": [
    "import asyncio\n",
    "from sf_researcher.utils.llm import *\n",
    "from sf_researcher.utils.validators import *\n",
    "import asyncio\n",
    "import nest_asyncio\n",
    "\n",
    "nest_asyncio.apply()"
   ]
  },
  {
   "cell_type": "code",
   "execution_count": 5,
   "metadata": {},
   "outputs": [],
   "source": [
    "# Create dummy data for testing\n",
    "\n",
    "test_task = \"Research the company's directors and generate a report.\"\n",
    "test_data = \"Example Company Inc. is a multinational corporation specializing in technology and software solutions.\"\n",
    "test_sub_query = \"Find information about the director John Doe.\"\n",
    "test_visited_urls = [\"http://example.com/director1\", \"http://example.com/director2\"]\n",
    "test_company = \"Example Company Inc.\"\n",
    "test_context = \"Contextual information about Example Company Inc. for detailed research.\"\n",
    "test_config = {\n",
    "    \"smart_llm_model\": \"gpt-3.5-turbo\",\n",
    "    \"fast_llm_model\": \"gpt-3.5-turbo\",\n",
    "    \"llm_provider\": \"openai\",\n",
    "    \"max_subtopics\": 5\n",
    "}\n",
    "\n",
    "# Create a dummy compliance report request\n",
    "compliance_report_request = {\n",
    "    \"query\": \"Investigate the compliance status of Example Company Inc.\",\n",
    "    \"salesforce_id\": \"001xx000003DGbOAAW\",\n",
    "    \"directors\": [\"John Doe\", \"Jane Smith\"],\n",
    "    \"include_domains\": [\"example.com\"],\n",
    "    \"exclude_domains\": [\"exclude-example.com\"],\n",
    "    \"parent_sub_queries\": [\"Parent query example\"],\n",
    "    \"child_sub_queries\": [\"Child query example\"]\n",
    "}\n"
   ]
  },
  {
   "cell_type": "code",
   "execution_count": 6,
   "metadata": {},
   "outputs": [],
   "source": [
    "from dotenv import load_dotenv\n",
    "load_dotenv()\n",
    "LANGCHAIN_TRACING_V2 = os.getenv(\"LANGCHAIN_TRACING_V2\")\n",
    "LANGCHAIN_ENDPOINT = os.getenv(\"LANGCHAIN_ENDPOINT\")\n",
    "LANGCHAIN_API_KEY = os.getenv(\"LANGCHAIN_API_KEY\")\n",
    "LANGCHAIN_PROJECT = os.getenv(\"LANGCHAIN_PROJECT\")"
   ]
  },
  {
   "cell_type": "code",
   "execution_count": 7,
   "metadata": {},
   "outputs": [
    {
     "name": "stdout",
     "output_type": "stream",
     "text": [
      "\n",
      "🤖 Calling gpt-3.5-turbo...\n",
      "\n",
      "Construct Company SObject Output Tool Schema:  [{'type': 'function', 'function': {'name': 'CompanySobject', 'description': 'Company Details', 'parameters': {'type': 'object', 'properties': {'company_name': {'description': 'Full legal company name', 'type': 'string'}, 'registration_number': {'description': 'Company registration number', 'default': '', 'type': 'string'}, 'incorporation_date': {'description': 'Incorporation date in yyyy-mm-dd format (e.g. 2023-02-13)', 'default': '', 'type': 'string'}, 'jurisdiction': {'description': 'Jurisdiction of incorporation', 'default': '', 'type': 'string'}, 'registered_address': {'description': 'Registered office address', 'default': '', 'type': 'string'}, 'licenses': {'description': 'Regulatory licenses and registrations held', 'default': '', 'type': 'string'}, 'regulatory_actions': {'description': 'Past regulatory actions, fines or investigations', 'default': '', 'type': 'string'}, 'adverse_media': {'description': 'Adverse media or reports of financial crime, fraud or unethical practices', 'default': '', 'type': 'string'}, 'risk_assessment': {'description': 'Salutation that you think best fits director', 'allOf': [{'title': 'RiskAssessmentEnum', 'description': 'An enumeration.', 'enum': ['low', 'medium', 'high'], 'type': 'string'}]}, 'primary_source_url': {'description': 'The primary source URL used in collecting data', 'type': 'string'}}, 'required': ['company_name', 'risk_assessment', 'primary_source_url']}}}]\n"
     ]
    },
    {
     "name": "stderr",
     "output_type": "stream",
     "text": [
      "INFO:httpx:HTTP Request: POST https://api.openai.com/v1/chat/completions \"HTTP/1.1 200 OK\"\n"
     ]
    },
    {
     "name": "stdout",
     "output_type": "stream",
     "text": [
      "Construct Company SObject Output:  company_name='Example Company Inc.' registration_number='' incorporation_date='' jurisdiction='' registered_address='' licenses='' regulatory_actions='' adverse_media='' risk_assessment=<RiskAssessmentEnum.medium: 'medium'> primary_source_url=\"['http://example.com/director1', 'http://example.com/director2']\"\n",
      "Company SObject: company_name='Example Company Inc.' registration_number='' incorporation_date='' jurisdiction='' registered_address='' licenses='' regulatory_actions='' adverse_media='' risk_assessment=<RiskAssessmentEnum.medium: 'medium'> primary_source_url=\"['http://example.com/director1', 'http://example.com/director2']\"\n"
     ]
    }
   ],
   "source": [
    "async def test_construct_company_sobject():\n",
    "    try:\n",
    "        response = await construct_company_sobject(\n",
    "            subtopic_report=test_task,\n",
    "            visited_urls=test_visited_urls,\n",
    "            company=test_company,\n",
    "            context=test_context,\n",
    "            config=config\n",
    "        )\n",
    "        print(f\"Company SObject: {response}\")\n",
    "    except Exception as e:\n",
    "        print(f\"Error: {e}\")\n",
    "\n",
    "# To run the async function\n",
    "await test_construct_company_sobject()\n"
   ]
  }
 ],
 "metadata": {
  "kernelspec": {
   "display_name": ".venv",
   "language": "python",
   "name": "python3"
  },
  "language_info": {
   "codemirror_mode": {
    "name": "ipython",
    "version": 3
   },
   "file_extension": ".py",
   "mimetype": "text/x-python",
   "name": "python",
   "nbconvert_exporter": "python",
   "pygments_lexer": "ipython3",
   "version": "3.11.3"
  }
 },
 "nbformat": 4,
 "nbformat_minor": 2
}
